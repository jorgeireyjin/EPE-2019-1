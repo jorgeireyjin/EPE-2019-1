{
 "cells": [
  {
   "cell_type": "markdown",
   "metadata": {},
   "source": [
    "### Pregunta 2\n",
    "\n",
    "Una empresa desea crear un sistema de seguridad adicional para los usuarios de su sistema de transferencia de dinero en línea. \n",
    "Para ello requiere una aplicación que le permita ingresar a una persona su fecha de nacimiento en el siguiente formato\n",
    "\n",
    "**24 de Julio de 1920**\n",
    "\n",
    "El sistema sumará los dígitos 24 + 7 + 1920 = 7 que será el llamado **número mágico de seguridad**. \n",
    "El número mágico es un valor que va entre 1 y 9. \n",
    "Con este número se podrá comprobar que la persona que ingresa sus datos es en realidad la persona que dice ser. \n",
    "\n",
    "Se pide:\n",
    "1. Desarrollar un subprograma que reciba el mes y devuelva el número de mes cuando se le envía el nombre del mes.\n",
    "1. Desarrollar un subprograma que permita calcular el número mágico de seguridad.\n"
   ]
  },
  {
   "cell_type": "code",
   "execution_count": 1,
   "metadata": {},
   "outputs": [
    {
     "name": "stdout",
     "output_type": "stream",
     "text": [
      "Test de prueba del programa\n",
      "---------------------------\n",
      "FFFFFFFF \n"
     ]
    }
   ],
   "source": [
    "def numero_de_mes(nombre_mes)\n",
    "\n",
    "end\n",
    "\n",
    "def numero_magico(dia, nombre_mes, anho)\n",
    "\n",
    "end\n",
    "\n",
    "#--------------zona de test-------------------\n",
    "def test_numero_de_mes\n",
    "  print validate(1, numero_de_mes(\"enero\"))\n",
    "  print validate(5, numero_de_mes(\"mayo\"))\n",
    "  print validate(12, numero_de_mes(\"diciembre\"))\n",
    "  print validate(7, numero_de_mes(\"julio\"))\n",
    "end\n",
    "\n",
    "def test_numero_magico\n",
    "  print validate(8, numero_magico(1,\"enero\",1500))\n",
    "  print validate(3, numero_magico(30,\"julio\",1973))\n",
    "  print validate(5, numero_magico(11,\"setiembre\",2010))\n",
    "  print validate(6, numero_magico(20,\"enero\",1920))\n",
    "end\n",
    "\n",
    "def validate (expected, value)\n",
    " expected == value ? \".\" : \"F\"\n",
    "end\n",
    "\n",
    "def test\n",
    "   \n",
    "  puts \"Test de prueba del programa\"\n",
    "  puts \"---------------------------\"\n",
    "  test_numero_de_mes\n",
    "  test_numero_magico\n",
    "  puts \" \"\n",
    "end\n",
    "test"
   ]
  }
 ],
 "metadata": {
  "kernelspec": {
   "display_name": "Ruby 2.2.6",
   "language": "ruby",
   "name": "ruby"
  },
  "language_info": {
   "file_extension": ".rb",
   "mimetype": "application/x-ruby",
   "name": "ruby",
   "version": "2.2.6"
  }
 },
 "nbformat": 4,
 "nbformat_minor": 2
}
