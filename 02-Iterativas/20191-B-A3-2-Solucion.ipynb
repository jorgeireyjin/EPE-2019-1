{
 "cells": [
  {
   "cell_type": "markdown",
   "metadata": {},
   "source": [
    "### Pregunta 2\n",
    "\n",
    "Desarrolla un subprograma que dado dos números (n1 y n2) determine cuantos números múltiplos de n1 hay en el rango que va desde 1 hasta n2.\n",
    "\n",
    "Ejemplo: dado n1 = 2 y n2 = 16, debe devolver 8 (hay 8 números múltiplos de n1 que son 2, 4, 6, 8, 10, 12, 14, 16).\n"
   ]
  },
  {
   "cell_type": "markdown",
   "metadata": {},
   "source": [
    "<div class=\"alert alert-block alert-info\">\n",
    "<ul>\n",
    "<li>En este caso se utiliza un CONTADOR</li>\n",
    "<li>Se recorren los nùmeros desde 1 hasta el numero2</li>\n",
    "<li>Para que sea múltiplo, al dividirse cualquier número del rango dado entre numero1, el resultado no debe dar residuo</li>\n",
    "</ul>\n",
    "</div>"
   ]
  },
  {
   "cell_type": "code",
   "execution_count": 1,
   "metadata": {},
   "outputs": [
    {
     "data": {
      "text/plain": [
       ":cuentaMultiplos"
      ]
     },
     "execution_count": 1,
     "metadata": {},
     "output_type": "execute_result"
    }
   ],
   "source": [
    "def cuentaMultiplos(numero1 , numero2)\n",
    "    cuenta=0\n",
    "  \n",
    "    for i in 1 .. numero2\n",
    "      if i % numero1 == 0\n",
    "        cuenta = cuenta + 1\n",
    "      end\n",
    "    end\n",
    "  \n",
    "    #puts cuenta\n",
    "    return cuenta\n",
    "end"
   ]
  },
  {
   "cell_type": "code",
   "execution_count": 2,
   "metadata": {},
   "outputs": [
    {
     "name": "stdout",
     "output_type": "stream",
     "text": [
      "Test de prueba del programa\n",
      "---------------------------\n",
      ".... \n"
     ]
    }
   ],
   "source": [
    "#--- zona de test ----\n",
    "\n",
    "def test_cuentaMultiplos\n",
    "    print validate(  8, cuentaMultiplos( 2,  16))\n",
    "    print validate(435, cuentaMultiplos( 5,2178))\n",
    "    print validate( 29, cuentaMultiplos(11, 324))\n",
    "    print validate( 41, cuentaMultiplos( 7, 289))\n",
    "  end\n",
    "\n",
    "\n",
    "def validate (expected, value)\n",
    " expected == value ? \".\" : \"F\"\n",
    "end\n",
    "\n",
    "def test\n",
    "  puts \"Test de prueba del programa\"\n",
    "  puts \"---------------------------\"\n",
    "  test_cuentaMultiplos\n",
    "  puts \" \"\n",
    "end\n",
    "\n",
    "test"
   ]
  }
 ],
 "metadata": {
  "kernelspec": {
   "display_name": "Ruby 2.2.6",
   "language": "ruby",
   "name": "ruby"
  },
  "language_info": {
   "file_extension": ".rb",
   "mimetype": "application/x-ruby",
   "name": "ruby",
   "version": "2.2.6"
  }
 },
 "nbformat": 4,
 "nbformat_minor": 2
}
