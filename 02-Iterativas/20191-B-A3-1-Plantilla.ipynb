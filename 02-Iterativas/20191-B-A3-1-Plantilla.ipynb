{
 "cells": [
  {
   "cell_type": "markdown",
   "metadata": {},
   "source": [
    "### Pregunta 1\n",
    "\n",
    "Hacer un subprograma para sumar los números impares contenidos entre el posterior del primero y el anterior del segundo \n",
    "\n",
    "Ejemplo: dado n1 = 1 y n2 = 16, debe devolver 63 (3+5+7+9+11+13+15).\n",
    "\n"
   ]
  },
  {
   "cell_type": "code",
   "execution_count": 1,
   "metadata": {},
   "outputs": [
    {
     "name": "stdout",
     "output_type": "stream",
     "text": [
      "Test de prueba del programa\n",
      "---------------------------\n",
      "FFFF \n"
     ]
    }
   ],
   "source": [
    "def sumaImpares(numero1 , numero2)\n",
    "    suma=0\n",
    "\n",
    "\n",
    "    #puts suma\n",
    "    return suma\n",
    "end\n",
    "\n",
    "\n",
    "#--- zona de test ----\n",
    "\n",
    "def test_sumaImpares\n",
    "    print validate(   63, sumaImpares(  1, 16))\n",
    "    print validate(10400, sumaImpares( 50,211))\n",
    "    print validate(  585, sumaImpares( 23, 54))\n",
    "    print validate(21600, sumaImpares(300,420))\n",
    "  end\n",
    "\n",
    "\n",
    "def validate (expected, value)\n",
    " expected == value ? \".\" : \"F\"\n",
    "end\n",
    "\n",
    "def test\n",
    "  puts \"Test de prueba del programa\"\n",
    "  puts \"---------------------------\"\n",
    "  test_sumaImpares\n",
    "  puts \" \"\n",
    "end\n",
    "\n",
    "test"
   ]
  }
 ],
 "metadata": {
  "kernelspec": {
   "display_name": "Ruby 2.2.6",
   "language": "ruby",
   "name": "ruby"
  },
  "language_info": {
   "file_extension": ".rb",
   "mimetype": "application/x-ruby",
   "name": "ruby",
   "version": "2.2.6"
  }
 },
 "nbformat": 4,
 "nbformat_minor": 2
}
