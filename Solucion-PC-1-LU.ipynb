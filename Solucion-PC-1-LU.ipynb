{
 "cells": [
  {
   "cell_type": "markdown",
   "metadata": {},
   "source": [
    "Solucion Explicada"
   ]
  },
  {
   "cell_type": "markdown",
   "metadata": {},
   "source": [
    "<div class=\"alert alert-block alert-success\">\n",
    "<b>Pregunta 1</b> \n",
    "<br>Dado un tipo de paquete anual de servidores y una empresa, determinar el precio de un paquete anual. (5 puntos)  \n",
    "</div>\n"
   ]
  },
  {
   "cell_type": "markdown",
   "metadata": {},
   "source": [
    "<div class=\"alert alert-block alert-warning\">\n",
    "<br>En todas las plantillas que se usan en el curso la rutina **validate** sirve para comparar los resultados de nuestro algoritmo con el valor esperado.\n",
    "<br> Si el resultado es **idéntico** se imprime un punto y sino, se imprime una letra F\n",
    "</div>\n"
   ]
  },
  {
   "cell_type": "code",
   "execution_count": 28,
   "metadata": {},
   "outputs": [
    {
     "data": {
      "text/plain": [
       ":validate"
      ]
     },
     "execution_count": 28,
     "metadata": {},
     "output_type": "execute_result"
    }
   ],
   "source": [
    "def validate (expected, value)\n",
    "    expected == value ? \".\" : \"F\"\n",
    "end"
   ]
  },
  {
   "cell_type": "markdown",
   "metadata": {},
   "source": [
    "A continuación está el código que soluciona la primera pregunta.\n",
    "\n",
    "\n",
    "<div class=\"alert alert-block alert-info\">\n",
    "<b>OJO:</b>\n",
    "  <br>En este caso hemos utilizado un IF-END por cada empresa y dentro de ello hemos usado el CASE para los tipos de paquete. \n",
    "  <br>Tambien pudo haberse implementado con CASE o IF-ELSIF\n",
    "  <br>Se espera que hayas escrito un código similar\n",
    "</div>"
   ]
  },
  {
   "cell_type": "code",
   "execution_count": 29,
   "metadata": {},
   "outputs": [
    {
     "data": {
      "text/plain": [
       ":calcularPaqueteServidores"
      ]
     },
     "execution_count": 29,
     "metadata": {},
     "output_type": "execute_result"
    }
   ],
   "source": [
    "def calcularPaqueteServidores(paquete, empresa)\n",
    "\n",
    "# Definimos una variable precio inicialmente en cero\n",
    "precio = 0\n",
    "  \n",
    "if empresa == \"Amazon\"\n",
    "  case paquete\n",
    "    when \"Dedicado\" then precio = 2400\n",
    "    when \"Virtual\"  then precio = 1440\n",
    "    when \"Almacenamiento\" then precio = 960\n",
    "    else precio =  0\n",
    "  end # del case\n",
    "end\n",
    "\n",
    "if empresa == \"Azure\"\n",
    "  case paquete\n",
    "    when \"Dedicado\" then precio = 2280\n",
    "    when \"Virtual\" then precio = 1416\n",
    "    when \"Almacenamiento\" then precio = 1020\n",
    "    else  precio = 0\n",
    "  end # del case\n",
    "end\n",
    "\n",
    "if empresa == \"SoftLayer\"\n",
    "  case paquete\n",
    "    when \"Dedicado\" then precio = 2340\n",
    "    when \"Virtual\" then precio = 1428\n",
    "    when \"Almacenamiento\" then precio = 1080\n",
    "    else  precio= 0\n",
    "  end # del case\n",
    "end\n",
    "      # Retornar el precio calculado\n",
    "      return precio\n",
    "\n",
    "end"
   ]
  },
  {
   "cell_type": "markdown",
   "metadata": {},
   "source": [
    "La rutina **test_calcularPaqueteServidores** sirve para probar si nuestro algoritmo retorna los resultados correctos"
   ]
  },
  {
   "cell_type": "code",
   "execution_count": 32,
   "metadata": {},
   "outputs": [
    {
     "data": {
      "text/plain": [
       ":test_calcularPaqueteServidores"
      ]
     },
     "execution_count": 32,
     "metadata": {},
     "output_type": "execute_result"
    }
   ],
   "source": [
    "def test_calcularPaqueteServidores\n",
    "    print validate(2400, calcularPaqueteServidores(\"Dedicado\", \"Amazon\")) \n",
    "\tprint validate(1416, calcularPaqueteServidores(\"Virtual\", \"Azure\")) \n",
    "\tprint validate(1080, calcularPaqueteServidores(\"Almacenamiento\", \"SoftLayer\")) \n",
    "    print validate(2280, calcularPaqueteServidores(\"Dedicado\", \"Azure\")) \n",
    "\tprint validate(1440, calcularPaqueteServidores(\"Virtual\", \"Amazon\")) \n",
    "\tprint validate(1020, calcularPaqueteServidores(\"Almacenamiento\", \"Azure\")) \n",
    "end"
   ]
  },
  {
   "cell_type": "markdown",
   "metadata": {},
   "source": [
    "Y ahora viene el programa principal que ejecuta la rutina de prueba e invoca a nuestro código:"
   ]
  },
  {
   "cell_type": "code",
   "execution_count": 33,
   "metadata": {},
   "outputs": [
    {
     "name": "stdout",
     "output_type": "stream",
     "text": [
      "Enunciado - Paquete Servidores\n",
      "...... \n"
     ]
    }
   ],
   "source": [
    "puts \"Enunciado - Paquete Servidores\"\n",
    "test_calcularPaqueteServidores\n",
    "puts \" \""
   ]
  },
  {
   "cell_type": "markdown",
   "metadata": {},
   "source": [
    "<div class=\"alert alert-block alert-success\">\n",
    "<b>Pregunta 2</b> \n",
    "<br>Dado un tipo de licencia, determinar el precio de venta anual. (2 puntos)\n",
    "</div>"
   ]
  },
  {
   "cell_type": "markdown",
   "metadata": {},
   "source": [
    "<div class=\"alert alert-block alert-info\">\n",
    "<b>OJO:</b>\n",
    "Observar que lo hemos implementado con IF-ELSIF-ELSE, pero pudo haberse implementado con puros IF-END o con CASE\n",
    "Los datos los hemos tomado del segundo cuadro que figura en el texto del caso.    \n",
    "Se espera que hayas escrito un código similar\n",
    "</div>"
   ]
  },
  {
   "cell_type": "code",
   "execution_count": 34,
   "metadata": {},
   "outputs": [
    {
     "data": {
      "text/plain": [
       ":calcularPaqueteLicencia"
      ]
     },
     "execution_count": 34,
     "metadata": {},
     "output_type": "execute_result"
    }
   ],
   "source": [
    "def calcularPaqueteLicencia(licencia)\n",
    "    if (licencia == \"WINDOWS\")\n",
    "        return 1620\n",
    "    elsif (licencia == \"LINUX\")\n",
    "        return 1200\n",
    "    elsif (licencia == \"UNIX\")\n",
    "        return 3240\n",
    "    else\n",
    "        return 0\n",
    "    end\n",
    "end"
   ]
  },
  {
   "cell_type": "markdown",
   "metadata": {},
   "source": [
    "La rutina **test_calcularPaqueteLicencia** sirve para probar si nuestro algoritmo retorna los resultados correctos"
   ]
  },
  {
   "cell_type": "code",
   "execution_count": 35,
   "metadata": {},
   "outputs": [
    {
     "data": {
      "text/plain": [
       ":test_calcularPaqueteLicencia"
      ]
     },
     "execution_count": 35,
     "metadata": {},
     "output_type": "execute_result"
    }
   ],
   "source": [
    "def test_calcularPaqueteLicencia\n",
    "    print validate(1620, calcularPaqueteLicencia(\"WINDOWS\")) \n",
    "\tprint validate(1200, calcularPaqueteLicencia(\"LINUX\")) \n",
    "\tprint validate(3240, calcularPaqueteLicencia(\"UNIX\"))\n",
    "end"
   ]
  },
  {
   "cell_type": "markdown",
   "metadata": {},
   "source": [
    "Y ahora viene el programa principal que ejecuta la rutina de prueba e invoca a nuestro código:"
   ]
  },
  {
   "cell_type": "code",
   "execution_count": 37,
   "metadata": {},
   "outputs": [
    {
     "name": "stdout",
     "output_type": "stream",
     "text": [
      "Enunciado - Licencias\n",
      "... \n"
     ]
    }
   ],
   "source": [
    "puts \"Enunciado - Licencias\"\n",
    "test_calcularPaqueteLicencia\n",
    "puts \" \""
   ]
  },
  {
   "cell_type": "markdown",
   "metadata": {},
   "source": [
    "<div class=\"alert alert-block alert-success\">\n",
    "<b>Pregunta 3</b> \n",
    "<br>Dado un tipo de paquete anual, una empresa y licencia, determinar el precio de venta mensual. (3 puntos)\n",
    "</div>"
   ]
  },
  {
   "cell_type": "markdown",
   "metadata": {},
   "source": [
    "<div class=\"alert alert-block alert-info\">\n",
    "<b>OJO:</b>\n",
    "<br>Nos están solicitando calcular algo en función a información que ya habiamos calculado previamente con las preguntas 1 y 2\n",
    "<br>En este caso no tiene sentido volver a escribir el código por lo que la opción más directa es invocar a dichas rutinas\n",
    "<br>Se espera que hayas escrito un código similar\n",
    "</div>"
   ]
  },
  {
   "cell_type": "code",
   "execution_count": 38,
   "metadata": {},
   "outputs": [
    {
     "data": {
      "text/plain": [
       ":calcularTotal"
      ]
     },
     "execution_count": 38,
     "metadata": {},
     "output_type": "execute_result"
    }
   ],
   "source": [
    "def calcularTotal(paquete, empresa, licencia)\n",
    "  # El costo de los servidores\n",
    "  c1 = calcularPaqueteServidores(paquete, empresa) \n",
    "  # El costo de las licencias\n",
    "  c2 = calcularPaqueteLicencia(licencia)\n",
    "  \n",
    "  # Como piden ANUAL hay que dividir \n",
    "  monto_a_pagar = (c1 + c2 )/12\n",
    "  return monto_a_pagar\n",
    "end"
   ]
  },
  {
   "cell_type": "markdown",
   "metadata": {},
   "source": [
    "La rutina **test_calcularTotal** sirve para probar si nuestro algoritmo retorna los resultados correctos"
   ]
  },
  {
   "cell_type": "code",
   "execution_count": 41,
   "metadata": {},
   "outputs": [
    {
     "data": {
      "text/plain": [
       ":test_calcularTotal"
      ]
     },
     "execution_count": 41,
     "metadata": {},
     "output_type": "execute_result"
    }
   ],
   "source": [
    "def test_calcularTotal\n",
    "    print validate(470, calcularTotal(\"Dedicado\", \"Amazon\", \"UNIX\")) \n",
    "\tprint validate(325, calcularTotal(\"Dedicado\", \"Azure\", \"WINDOWS\")) \n",
    "    print validate(190, calcularTotal(\"Almacenamiento\", \"SoftLayer\", \"LINUX\")) \n",
    "    print validate(389, calcularTotal(\"Virtual\", \"SoftLayer\", \"UNIX\")) \n",
    "end"
   ]
  },
  {
   "cell_type": "markdown",
   "metadata": {},
   "source": [
    "Y ahora viene el programa principal que ejecuta la rutina de prueba e invoca a nuestro código:"
   ]
  },
  {
   "cell_type": "code",
   "execution_count": 42,
   "metadata": {},
   "outputs": [
    {
     "name": "stdout",
     "output_type": "stream",
     "text": [
      "Enunciado - Total mensual\n",
      ".... \n"
     ]
    }
   ],
   "source": [
    "puts \"Enunciado - Total mensual\"\n",
    "test_calcularTotal\n",
    "puts \" \""
   ]
  }
 ],
 "metadata": {
  "kernelspec": {
   "display_name": "Ruby 2.2.6",
   "language": "ruby",
   "name": "ruby"
  },
  "language_info": {
   "file_extension": ".rb",
   "mimetype": "application/x-ruby",
   "name": "ruby",
   "version": "2.2.6"
  }
 },
 "nbformat": 4,
 "nbformat_minor": 2
}
