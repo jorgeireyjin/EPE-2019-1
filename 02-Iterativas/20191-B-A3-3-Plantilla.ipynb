{
 "cells": [
  {
   "cell_type": "markdown",
   "metadata": {},
   "source": [
    "### Pregunta 3\n",
    "\n",
    "Realizar un subprograma usando la estructura repetitiva FOR para calcular la suma de los números de la serie **Fibonacci** para los “n” primeros números\n",
    "\n",
    "Ejemplo: dado n= 10, se debe devolver 88 que es la suma de los 10 primeros números de la serie Fibonacci (0, 1, 1, 2, 3, 5, 8, 13, 21, 34)\n"
   ]
  },
  {
   "cell_type": "code",
   "execution_count": 1,
   "metadata": {},
   "outputs": [
    {
     "name": "stdout",
     "output_type": "stream",
     "text": [
      "Test de prueba del programa\n",
      "---------------------------\n",
      "FFFF \n"
     ]
    }
   ],
   "source": [
    "def sumaFibonacci_FOR(pos)\n",
    "    n1 = 0\n",
    "    n2 = 1 \n",
    "    suma = n1 + n2\n",
    "\n",
    "\n",
    "    #puts suma\n",
    "    return suma\n",
    "end\n",
    "\n",
    "\n",
    "#--- zona de test ----\n",
    "\n",
    "def test_sumaFibonacci_FOR\n",
    "    print validate(     88, sumaFibonacci_FOR(10))\n",
    "    print validate(    986, sumaFibonacci_FOR(15))\n",
    "    print validate(  10945, sumaFibonacci_FOR(20))\n",
    "    print validate(5702886, sumaFibonacci_FOR(33))\n",
    "  end\n",
    "\n",
    "\n",
    "def validate (expected, value)\n",
    " expected == value ? \".\" : \"F\"\n",
    "end\n",
    "\n",
    "def test\n",
    "  puts \"Test de prueba del programa\"\n",
    "  puts \"---------------------------\"\n",
    "  test_sumaFibonacci_FOR\n",
    "  puts \" \"\n",
    "end\n",
    "\n",
    "test"
   ]
  }
 ],
 "metadata": {
  "kernelspec": {
   "display_name": "Ruby 2.2.6",
   "language": "ruby",
   "name": "ruby"
  },
  "language_info": {
   "file_extension": ".rb",
   "mimetype": "application/x-ruby",
   "name": "ruby",
   "version": "2.2.6"
  }
 },
 "nbformat": 4,
 "nbformat_minor": 2
}
