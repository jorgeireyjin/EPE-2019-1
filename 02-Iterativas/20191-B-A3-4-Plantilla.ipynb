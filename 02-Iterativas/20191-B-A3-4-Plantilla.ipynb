{
 "cells": [
  {
   "cell_type": "markdown",
   "metadata": {},
   "source": [
    "### Pregunta 4\n",
    "\n",
    "Realizar un subprograma usando la estructura repetitiva **WHILE** para calcular la suma de los números de la serie **Fibonacci** para los “n” primeros números\n"
   ]
  },
  {
   "cell_type": "code",
   "execution_count": 1,
   "metadata": {},
   "outputs": [
    {
     "name": "stdout",
     "output_type": "stream",
     "text": [
      "Test de prueba del programa\n",
      "---------------------------\n",
      "FFFF \n"
     ]
    }
   ],
   "source": [
    "def sumaFibonacci_WHILE(pos)\n",
    "    n1 = 0\n",
    "    n2 = 1 \n",
    "    suma = n1 + n2\n",
    "    \n",
    "    cont = 3\n",
    "\n",
    "\n",
    "    #puts suma\n",
    "    return suma\n",
    "end\n",
    "\n",
    "\n",
    "#--- zona de test ----\n",
    "\n",
    "def test_sumaFibonacci_WHILE\n",
    "    print validate(     88, sumaFibonacci_WHILE(10))\n",
    "    print validate(    986, sumaFibonacci_WHILE(15))\n",
    "    print validate(  10945, sumaFibonacci_WHILE(20))\n",
    "    print validate(5702886, sumaFibonacci_WHILE(33))\n",
    "  end\n",
    "\n",
    "\n",
    "def validate (expected, value)\n",
    " expected == value ? \".\" : \"F\"\n",
    "end\n",
    "\n",
    "def test\n",
    "  puts \"Test de prueba del programa\"\n",
    "  puts \"---------------------------\"\n",
    "  test_sumaFibonacci_WHILE\n",
    "  puts \" \"\n",
    "end\n",
    "\n",
    "test"
   ]
  }
 ],
 "metadata": {
  "kernelspec": {
   "display_name": "Ruby 2.2.6",
   "language": "ruby",
   "name": "ruby"
  },
  "language_info": {
   "file_extension": ".rb",
   "mimetype": "application/x-ruby",
   "name": "ruby",
   "version": "2.2.6"
  }
 },
 "nbformat": 4,
 "nbformat_minor": 2
}
