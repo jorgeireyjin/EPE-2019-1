{
 "cells": [
  {
   "cell_type": "markdown",
   "metadata": {},
   "source": [
    "### Pregunta 1 - Solución\n",
    "Se cuenta con un número de 3 dígitos, calcular la suma de los dígitos y el promedio total\n"
   ]
  },
  {
   "cell_type": "markdown",
   "metadata": {},
   "source": [
    "<div class=\"alert alert-block alert-info\">\n",
    "Observar que en el test, para la rutina ***sumaDigitos*** se envìa como parámetro un número.\n",
    "¿ Cómo obtener cada dígito ?\n",
    "</ol>\n",
    "<li>1. Para obtener las unidades, tomamos el residuo de dividir el número entre 10 --> En Ruby, el operador para residuo es el ***%***</li>\n",
    "<li>2. Luego, para movernos hacia la siguiente posición, necesitamos dividor el número entre 10 (de esa manera eliminamos las unidades). El operador Ruby sería ***/*** </li>\n",
    "</ul>\n",
    "</div>"
   ]
  },
  {
   "cell_type": "code",
   "execution_count": 1,
   "metadata": {},
   "outputs": [
    {
     "data": {
      "text/plain": [
       ":sumaDigitos"
      ]
     },
     "execution_count": 1,
     "metadata": {},
     "output_type": "execute_result"
    }
   ],
   "source": [
    "def sumaDigitos(numero)\n",
    "  #Obtener el digito de las unidades\n",
    "  dig1 = numero%10\n",
    "  # Quitar las unidades\n",
    "  numero = numero/10\n",
    "  \n",
    "  dig2 = numero%10\n",
    "  numero = numero/10\n",
    "    dig3 = numero%10\n",
    "  \n",
    "  suma = dig1 + dig2 + dig3\n",
    "  return suma\n",
    "end"
   ]
  },
  {
   "cell_type": "markdown",
   "metadata": {},
   "source": [
    "<div class=\"alert alert-block alert-info\">\n",
    "<ul>\n",
    "<li>1. Para obtener el promedio de los digitos, se requiere saber cuanto es la suma los digitos, por tanto hay que invocar a la rutina anterior.</li>\n",
    "<li>2. Por otro lado, al ver los casos de prueba se asume que siempre hay 3 digitos.</li>\n",
    "<li>3. Recordar que en Ruby la divisiòn de dos enteros da como resultado otro entero. Por tanto se requiere multiplicar a uno de los dos operandos por 1.0 (para obtener un decimal)</li>\n",
    "<li>4. Tambien, verificar en el test, con cuantos decimales se debe retornar la respuesta (en este caso se usa ***round(2)*** )</li>\n",
    "</ul>\n",
    "</div>"
   ]
  },
  {
   "cell_type": "code",
   "execution_count": 2,
   "metadata": {},
   "outputs": [
    {
     "data": {
      "text/plain": [
       ":calculaPromedio"
      ]
     },
     "execution_count": 2,
     "metadata": {},
     "output_type": "execute_result"
    }
   ],
   "source": [
    "def calculaPromedio(numero)\n",
    "  suma = sumaDigitos(numero)\n",
    "  promedio = suma*1.0/3\n",
    "  return promedio.round(2)\n",
    "end"
   ]
  },
  {
   "cell_type": "code",
   "execution_count": 3,
   "metadata": {},
   "outputs": [
    {
     "name": "stdout",
     "output_type": "stream",
     "text": [
      "Test de prueba del programa\n",
      "---------------------------\n",
      ".... \n",
      ".... \n"
     ]
    }
   ],
   "source": [
    "\n",
    "#--- zona de test ----\n",
    "\n",
    "def test_sumaDigitos\n",
    "    print validate(22, sumaDigitos(967))\n",
    "    print validate(7, sumaDigitos(205))\n",
    "    print validate(24, sumaDigitos(699))\n",
    "    print validate(15, sumaDigitos(438))\n",
    "end\n",
    "\n",
    "def test_calculaPromedio\n",
    "    print validate(7.33, calculaPromedio(967))\n",
    "    print validate(2.33, calculaPromedio(205))\n",
    "    print validate(8, calculaPromedio(699))\n",
    "    print validate(5, calculaPromedio(438))\n",
    "end\n",
    "\n",
    "def validate (expected, value)\n",
    " expected == value ? \".\" : \"F\"\n",
    "end\n",
    "\n",
    "def test   \n",
    "  puts \"Test de prueba del programa\"\n",
    "  puts \"---------------------------\"\n",
    "  test_sumaDigitos\n",
    "  puts \" \"\n",
    "  test_calculaPromedio\n",
    "  puts \" \"\n",
    "end\n",
    "test\n"
   ]
  }
 ],
 "metadata": {
  "celltoolbar": "Tags",
  "kernelspec": {
   "display_name": "Ruby 2.2.6",
   "language": "ruby",
   "name": "ruby"
  },
  "language_info": {
   "file_extension": ".rb",
   "mimetype": "application/x-ruby",
   "name": "ruby",
   "version": "2.2.6"
  }
 },
 "nbformat": 4,
 "nbformat_minor": 2
}
