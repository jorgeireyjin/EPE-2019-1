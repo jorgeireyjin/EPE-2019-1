{
 "cells": [
  {
   "cell_type": "markdown",
   "metadata": {},
   "source": [
    "### Pregunta 1\n",
    "\n",
    "Desarrollar un algoritmo que determine si dos números son **amigos**. \n",
    "Dos números (num1 y num2) cumplen esa condición si la suma de los divisores de num1 (salvo el mismo número) es igual a num2 y la suma de divisores de num2 (salvo el mismo número) es igual a num1\n",
    "\n",
    "Ejemplo: Los divisores de num1 (220) son 1, 2, 4, 5, 10, 11, 20, 22, 44, 55, 110 y la suma es 284.\n",
    "               Los divisores de num2 (284) son 1, 2, 4, 71, 142 y la suma es 220\n",
    "\n",
    "Desarrollar los siguientes módulos (subrutina):\n",
    "1. Una subrutina que permita calcular la suma de los divisores de un número (no considerar al mismo número en la suma).\n",
    "1. Una subrutina que permita determinar si dos números son amigos.\n"
   ]
  },
  {
   "cell_type": "markdown",
   "metadata": {},
   "source": [
    "<div class=\"alert alert-block alert-info\">\n",
    "<ol>\n",
    "<li>Necesitamos un ACUMULADOR donde almacenar la suma de los divisores</li>\n",
    "<li>Por aritmetica sabemos que los divisores solo llegan hasta la mitad del numero (por ejemplo, los divisores de 18 solo llegan hasta el numero 9)</li>\n",
    "<li>Para que un numero sea divisor de otro, la división no debe generar residuo ( el operador en Ruby es el <bold>%</bold></li>\n",
    "</ol>\n",
    "</div>"
   ]
  },
  {
   "cell_type": "code",
   "execution_count": 4,
   "metadata": {},
   "outputs": [
    {
     "data": {
      "text/plain": [
       ":sumaDivisores"
      ]
     },
     "execution_count": 4,
     "metadata": {},
     "output_type": "execute_result"
    }
   ],
   "source": [
    "def sumaDivisores(numero)\n",
    "    # El acumulador es la variable suma\n",
    "    suma = 0\n",
    "    # Buscamos los divisores desde 1 hasta la mitad del numero\n",
    "    for i in 1..numero/2\n",
    "      # Si no hay residuo \n",
    "      if numero%i == 0\n",
    "        suma = suma+i\n",
    "      end\n",
    "    end\n",
    "  \n",
    "    return suma\n",
    "end"
   ]
  },
  {
   "cell_type": "markdown",
   "metadata": {},
   "source": [
    "<div class=\"alert alert-block alert-info\">\n",
    "<ol>\n",
    "<li>Se requiere saber los divisores de cada número</li>\n",
    "<li>Entonces se debe invocar a la subrutina anterior</li>\n",
    "<li>Luego hay que comparar si la suma de divisores de un numero es igual al otro numero y viceversa</li>\n",
    "</ol>\n",
    "</div>"
   ]
  },
  {
   "cell_type": "code",
   "execution_count": 5,
   "metadata": {},
   "outputs": [
    {
     "data": {
      "text/plain": [
       ":evaluasiSonAmigos"
      ]
     },
     "execution_count": 5,
     "metadata": {},
     "output_type": "execute_result"
    }
   ],
   "source": [
    "def evaluasiSonAmigos(numero1, numero2)\n",
    "    # Invocar a la rutina anterior\n",
    "    suma1 = sumaDivisores(numero1)\n",
    "    suma2 = sumaDivisores(numero2)\n",
    "    # Comparar\n",
    "    if suma1 == numero2 and suma2 == numero1\n",
    "      return true\n",
    "    else\n",
    "      return false\n",
    "    end\n",
    "end"
   ]
  },
  {
   "cell_type": "code",
   "execution_count": 6,
   "metadata": {},
   "outputs": [
    {
     "name": "stdout",
     "output_type": "stream",
     "text": [
      "Test de prueba del programa\n",
      "---------------------------\n",
      "....... \n"
     ]
    }
   ],
   "source": [
    "#--- zona de test ----\n",
    "\n",
    "def test_sumaDivisores\n",
    "    print validate(284, sumaDivisores(220)) \n",
    "    print validate(220, sumaDivisores(284)) \n",
    "    print validate(18416, sumaDivisores(17296)) \n",
    "    print validate(17296, sumaDivisores(18416))\n",
    "end\n",
    "\n",
    "def test_evaluasiSonAmigos\n",
    "    print validate(true, evaluasiSonAmigos(220,284))\n",
    "    print validate(true, evaluasiSonAmigos(17296,18416))\n",
    "    print validate(false, evaluasiSonAmigos(220,18416))\n",
    "end\n",
    "\n",
    "def validate (expected, value)\n",
    " expected == value ? \".\" : \"F\"\n",
    "end\n",
    "\n",
    "def test\n",
    "  puts \"Test de prueba del programa\"\n",
    "  puts \"---------------------------\"\n",
    "  test_sumaDivisores\n",
    "  test_evaluasiSonAmigos\n",
    "  puts \" \"\n",
    "end\n",
    "\n",
    "test"
   ]
  }
 ],
 "metadata": {
  "kernelspec": {
   "display_name": "Ruby 2.2.6",
   "language": "ruby",
   "name": "ruby"
  },
  "language_info": {
   "file_extension": ".rb",
   "mimetype": "application/x-ruby",
   "name": "ruby",
   "version": "2.2.6"
  }
 },
 "nbformat": 4,
 "nbformat_minor": 2
}
