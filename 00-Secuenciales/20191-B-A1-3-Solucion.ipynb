{
 "cells": [
  {
   "cell_type": "markdown",
   "metadata": {},
   "source": [
    "### Pregunta 3 - Solución\n",
    "Una persona compra una cantidad de unidades de un producto, sobre esa compra debe pagar un impuesto del 18%. \n",
    "Calcular el impuesto y el importe total a pagar.   \n",
    "\n",
    "Ejemplo: si compra por 100 soles, su impuesto es 18 soles y el importe total es 118 soles. "
   ]
  },
  {
   "cell_type": "markdown",
   "metadata": {},
   "source": [
    "<div class=\"alert alert-block alert-info\">\n",
    "    El importe sin impuesto es la multiplicaciòn de precio por cantidad (Ambos parámetros llegan a la rutina).\n",
    "Como se multiplican dos números enteros, el resultado es entero y por tanto no hay que utilizar round\n",
    "  \n",
    "</div>"
   ]
  },
  {
   "cell_type": "code",
   "execution_count": 7,
   "metadata": {},
   "outputs": [
    {
     "data": {
      "text/plain": [
       ":importesinImpuesto"
      ]
     },
     "execution_count": 7,
     "metadata": {},
     "output_type": "execute_result"
    }
   ],
   "source": [
    "def importesinImpuesto(precioUnitario, cantidad)\n",
    "  importe = precioUnitario*cantidad\n",
    "  return importe\n",
    "end"
   ]
  },
  {
   "cell_type": "markdown",
   "metadata": {},
   "source": [
    "<div class=\"alert alert-block alert-info\">\n",
    "    El impuesto es 18% del importe calculado en la rutina anterior.\n",
    "    En este caso se multiplica un decimal con un entero por lo que se requiere el uso de round(2)\n",
    "</div>"
   ]
  },
  {
   "cell_type": "code",
   "execution_count": 4,
   "metadata": {},
   "outputs": [
    {
     "data": {
      "text/plain": [
       ":calculaimpuesto"
      ]
     },
     "execution_count": 4,
     "metadata": {},
     "output_type": "execute_result"
    }
   ],
   "source": [
    "def calculaimpuesto(precioUnitario, cantidad)\n",
    "  # Llamar a la rutina anterior\n",
    "  importe = importesinImpuesto(precioUnitario, cantidad)\n",
    "  impuesto = importe * 0.18\n",
    "  return impuesto.round(2)\n",
    "end"
   ]
  },
  {
   "cell_type": "markdown",
   "metadata": {},
   "source": [
    "<div class=\"alert alert-block alert-info\">\n",
    "    El importe total es la suma del impuesto más el producto de precio por cantidad. Las dos turinas anteriores nos ayudan a esto.\n",
    "</div>"
   ]
  },
  {
   "cell_type": "code",
   "execution_count": 5,
   "metadata": {},
   "outputs": [
    {
     "data": {
      "text/plain": [
       ":calculaimporteTotal"
      ]
     },
     "execution_count": 5,
     "metadata": {},
     "output_type": "execute_result"
    }
   ],
   "source": [
    "def calculaimporteTotal(precioUnitario, cantidad)\n",
    "  importe  = importesinImpuesto(precioUnitario, cantidad)\n",
    "  impuesto = calculaimpuesto(precioUnitario, cantidad)\n",
    "  total    = importe + impuesto\n",
    "  return total\n",
    "end"
   ]
  },
  {
   "cell_type": "code",
   "execution_count": 8,
   "metadata": {},
   "outputs": [
    {
     "name": "stdout",
     "output_type": "stream",
     "text": [
      "Test de prueba del programa\n",
      "---------------------------\n",
      ".... \n",
      ".... \n",
      ".... \n"
     ]
    }
   ],
   "source": [
    "#--- zona de test ----\n",
    "\n",
    "def test_importesinImpuesto\n",
    "    print validate(100, importesinImpuesto(10,10))\n",
    "    print validate(925, importesinImpuesto(185,5))\n",
    "    print validate(596, importesinImpuesto(149,4))\n",
    "    print validate(214, importesinImpuesto(107,2))\n",
    "end\n",
    "\n",
    "def test_calculaimpuesto\n",
    "    print validate(18.0, calculaimpuesto(10,10))\n",
    "    print validate(166.5, calculaimpuesto(185,5))\n",
    "    print validate(107.28, calculaimpuesto(149,4))\n",
    "    print validate(38.52, calculaimpuesto(107,2))\n",
    "end\n",
    "\n",
    "def test_calculaimporteTotal\n",
    "    print validate(118.0, calculaimporteTotal(10,10))\n",
    "    print validate(1091.5, calculaimporteTotal(185,5))\n",
    "    print validate(703.28, calculaimporteTotal(149,4))\n",
    "    print validate(252.52, calculaimporteTotal(107,2))\n",
    "end\n",
    "\n",
    "def validate (expected, value)\n",
    " expected == value ? \".\" : \"F\"\n",
    "end\n",
    "\n",
    "def test   \n",
    "  puts \"Test de prueba del programa\"\n",
    "  puts \"---------------------------\"\n",
    "  test_importesinImpuesto\n",
    "  puts \" \"\n",
    "  test_calculaimpuesto\n",
    "  puts \" \"\n",
    "  test_calculaimporteTotal\n",
    "  puts \" \"  \n",
    "end\n",
    "test\n"
   ]
  }
 ],
 "metadata": {
  "kernelspec": {
   "display_name": "Ruby 2.2.6",
   "language": "ruby",
   "name": "ruby"
  },
  "language_info": {
   "file_extension": ".rb",
   "mimetype": "application/x-ruby",
   "name": "ruby",
   "version": "2.2.6"
  }
 },
 "nbformat": 4,
 "nbformat_minor": 2
}
