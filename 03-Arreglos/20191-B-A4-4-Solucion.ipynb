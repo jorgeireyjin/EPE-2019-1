{
 "cells": [
  {
   "cell_type": "markdown",
   "metadata": {},
   "source": [
    "### Pregunta 4\n",
    "\n",
    "Una conocida aerolínea necesita contar con un programa que le permita gestionar información acerca del estado de los asientos de cada uno de sus vuelos. Para esto, se cuenta con 2 arreglos: el primer arreglo contiene el número de asientos que tiene el vuelo, y el segundo contiene el estado de cada uno de los asientos (O = ocupado, D = desocupado).\n",
    "Se requiere lo siguiente:\n",
    "1. Subprograma que obtenga la cantidad de asientos disponibles.\n",
    "1. Subprograma que devuelva la lista de asientos que se encuentran disponibles.\n",
    "1. Subprograma que devuelva el número del primer asiento disponible. En caso no exista asiento disponible devolver cero.\n",
    "1. Subprograma que devuelva el número del último asiento disponible. En caso no exista asiento disponible devolver cero.\n",
    "1. Subprograma que devuelva el porcentaje de asientos disponibles.\n"
   ]
  },
  {
   "cell_type": "markdown",
   "metadata": {},
   "source": [
    "<div class=\"alert alert-block alert-danger\">\n",
    "<p> Tener presente que se envia un arreglo a la rutina</p>\n",
    "<p> Los asientos disponibles son aquellos elementos del arreglo que tengan una D</p>\n",
    "</div>"
   ]
  },
  {
   "cell_type": "code",
   "execution_count": 3,
   "metadata": {},
   "outputs": [
    {
     "data": {
      "text/plain": [
       ":numAsientosDisponibles"
      ]
     },
     "execution_count": 3,
     "metadata": {},
     "output_type": "execute_result"
    }
   ],
   "source": [
    "def numAsientosDisponibles(estadoAsientos)\n",
    "  contar=0\n",
    "  \n",
    "  for i in 0..estadoAsientos.size-1\n",
    "    if estadoAsientos[i] == \"D\"\n",
    "      contar+=1\n",
    "    end\n",
    "  end\n",
    "  \n",
    "  return contar\n",
    "end    "
   ]
  },
  {
   "cell_type": "markdown",
   "metadata": {},
   "source": [
    "<div class=\"alert alert-block alert-danger\">\n",
    "<p>En este caso se envian dos arreglos a la rutina: uno contiene los números de asiento y el otro contiene el estado de cada asiento del primer arreglo</p>\n",
    "</div>"
   ]
  },
  {
   "cell_type": "code",
   "execution_count": 5,
   "metadata": {},
   "outputs": [
    {
     "data": {
      "text/plain": [
       ":listaAsientosDisponibles"
      ]
     },
     "execution_count": 5,
     "metadata": {},
     "output_type": "execute_result"
    }
   ],
   "source": [
    "def listaAsientosDisponibles(asientos,estadoAsientos)\n",
    "  rpta = []\n",
    "  \n",
    "  for i in 0..asientos.size-1\n",
    "    if estadoAsientos[i] == \"D\"\n",
    "      rpta.push(asientos[i])\n",
    "    end    \n",
    "  end\n",
    "  \n",
    "  return rpta\n",
    "end"
   ]
  },
  {
   "cell_type": "markdown",
   "metadata": {},
   "source": [
    "<div class=\"alert alert-block alert-danger\">\n",
    "<p>En este caso se envian dos arreglos a la rutina: uno contiene los números de asiento y el otro contiene el estado de cada asiento del primer arreglo</p>\n",
    "<p>LA idea es recorrer el arreglo donde estan los estados hasta encontrar el primer elemento con \"D\". Como los arreglos estan vinculados por la posición, se debe retornar el número de asiento que està en el otro arreglo</p>\n",
    "</div>"
   ]
  },
  {
   "cell_type": "code",
   "execution_count": 6,
   "metadata": {},
   "outputs": [
    {
     "data": {
      "text/plain": [
       ":primerAsientoDisponible"
      ]
     },
     "execution_count": 6,
     "metadata": {},
     "output_type": "execute_result"
    }
   ],
   "source": [
    "def primerAsientoDisponible(asientos,estadoAsientos)\n",
    "  for i in 0..asientos.size-1\n",
    "    if estadoAsientos[i] == \"D\"\n",
    "      # aqui se retorna el valor apensas se encuentra\n",
    "      return asientos[i]\n",
    "    end    \n",
    "  end  \n",
    "  \n",
    "  return 0\n",
    "end"
   ]
  },
  {
   "cell_type": "code",
   "execution_count": 8,
   "metadata": {},
   "outputs": [
    {
     "data": {
      "text/plain": [
       ":ultimoAsientoDisponible"
      ]
     },
     "execution_count": 8,
     "metadata": {},
     "output_type": "execute_result"
    }
   ],
   "source": [
    "def ultimoAsientoDisponible(asientos,estadoAsientos)\n",
    "  ultimoAsiento = 0 \n",
    "  \n",
    "  for i in 0..asientos.size-1\n",
    "    if estadoAsientos[i] == \"D\"\n",
    "      # aqui, hay que guardar el valor hasta finalizar el recorrido del arreglo.\n",
    "      ultimoAsiento = asientos[i]\n",
    "    end    \n",
    "  end \n",
    "  \n",
    "  return ultimoAsiento \n",
    "end"
   ]
  },
  {
   "cell_type": "markdown",
   "metadata": {},
   "source": [
    "<div class=\"alert alert-block alert-danger\">\n",
    "    Para el porcentaje se requiere contar cuantos hay.\n",
    "</div>"
   ]
  },
  {
   "cell_type": "code",
   "execution_count": 14,
   "metadata": {},
   "outputs": [
    {
     "data": {
      "text/plain": [
       ":porcentajeDisponible"
      ]
     },
     "execution_count": 14,
     "metadata": {},
     "output_type": "execute_result"
    }
   ],
   "source": [
    "def porcentajeDisponible(estadoAsientos)\n",
    "  cantidadDisponibles = 0 \n",
    "  \n",
    "  for i in 0..estadoAsientos.size-1\n",
    "    if estadoAsientos[i] == \"D\"\n",
    "      cantidadDisponibles = cantidadDisponibles + 1\n",
    "    end    \n",
    "  end  \n",
    "  \n",
    "  # Se multiplica por 1.0 para que el resultado sea decimal\n",
    "  return ( cantidadDisponibles *1.0/estadoAsientos.size).round(2)\n",
    "end\n",
    "  "
   ]
  },
  {
   "cell_type": "code",
   "execution_count": 15,
   "metadata": {},
   "outputs": [
    {
     "name": "stdout",
     "output_type": "stream",
     "text": [
      "---------------------------\n",
      "............... \n"
     ]
    }
   ],
   "source": [
    "\n",
    "#--- zona de test ----\n",
    "\n",
    "def test_numAsientosDisponibles\n",
    "  print validate(10,numAsientosDisponibles(@estado1))\n",
    "  print validate(8,numAsientosDisponibles(@estado2))\n",
    "  print validate(7,numAsientosDisponibles(@estado3))\n",
    "end\n",
    "\n",
    "def test_listaAsientosDisponibles\n",
    "  print validate([4,6,7,8,10,11,13,15,16,17],listaAsientosDisponibles(@listaAsientos,@estado1))\n",
    "  print validate([1,2,3,9,10,11,12,15],listaAsientosDisponibles(@listaAsientos,@estado2))\n",
    "  print validate([6,11,13,15,16,18,19],listaAsientosDisponibles(@listaAsientos,@estado3))\n",
    "end\n",
    "\n",
    "def test_primerAsientoDisponible\n",
    "   print validate(4,primerAsientoDisponible(@listaAsientos,@estado1))\n",
    "   print validate(1,primerAsientoDisponible(@listaAsientos,@estado2))\n",
    "   print validate(6,primerAsientoDisponible(@listaAsientos,@estado3))\n",
    "  \n",
    "end\n",
    "\n",
    "def test_ultimoAsientoDisponible\n",
    "   print validate(17,ultimoAsientoDisponible(@listaAsientos,@estado1))\n",
    "   print validate(15,ultimoAsientoDisponible(@listaAsientos,@estado2))\n",
    "   print validate(19,ultimoAsientoDisponible(@listaAsientos,@estado3))\n",
    "  \n",
    "end\n",
    "\n",
    "def test_porcentajeDisponible\n",
    "   print validate(0.50,porcentajeDisponible(@estado1))\n",
    "   print validate(0.40,porcentajeDisponible(@estado2))\n",
    "   print validate(0.35,porcentajeDisponible(@estado3))\n",
    "  \n",
    "end\n",
    "\n",
    "def validate (expected, value)\n",
    " expected == value ? \".\" : \"F\"\n",
    "end\n",
    "\n",
    "def test\n",
    "  @listaAsientos = [1,2,3,4,5,6,7,8,9,10,11,12,13,14,15,16,17,18,19,20]\n",
    "  \n",
    "  @estado1 =[\"O\",\"O\",\"O\",\"D\",\"O\",\"D\",\"D\",\"D\",\"O\",\"D\",\"D\",\"O\",\"D\",\"O\",\"D\",\"D\",\"D\",\"O\",\"O\",\"O\"] \n",
    "  @estado2 =[\"D\",\"D\",\"D\",\"O\",\"O\",\"O\",\"O\",\"O\",\"D\",\"D\",\"D\",\"D\",\"O\",\"O\",\"D\",\"O\",\"O\",\"O\",\"O\",\"O\"] \n",
    "  @estado3 =[\"O\",\"O\",\"O\",\"O\",\"O\",\"D\",\"O\",\"O\",\"O\",\"O\",\"D\",\"O\",\"D\",\"O\",\"D\",\"D\",\"O\",\"D\",\"D\",\"O\"] \n",
    "  \n",
    "  puts \"---------------------------\"\n",
    "  test_numAsientosDisponibles\n",
    "  test_listaAsientosDisponibles\n",
    "  test_primerAsientoDisponible\n",
    "  test_ultimoAsientoDisponible\n",
    "  test_porcentajeDisponible\n",
    "  puts \" \"\n",
    "end\n",
    "test"
   ]
  }
 ],
 "metadata": {
  "kernelspec": {
   "display_name": "Ruby 2.2.6",
   "language": "ruby",
   "name": "ruby"
  },
  "language_info": {
   "file_extension": ".rb",
   "mimetype": "application/x-ruby",
   "name": "ruby",
   "version": "2.2.6"
  }
 },
 "nbformat": 4,
 "nbformat_minor": 2
}
