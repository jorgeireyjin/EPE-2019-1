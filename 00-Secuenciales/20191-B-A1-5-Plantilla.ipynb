{
 "cells": [
  {
   "cell_type": "markdown",
   "metadata": {},
   "source": [
    "### Pregunta 5\n",
    "\n",
    "Un millonario excéntrico tenía tres hijos: Carlos, José y Marta. \n",
    "Al morir dejó el siguiente legado: \n",
    "* A José le dejó 4/3 de lo que le dejó a Carlos. \n",
    "* A Carlos le dejó 1/3 de su fortuna. \n",
    "* A Marta le dejo la mitad de lo que le dejó a José. \n",
    "\n",
    "Calcular cuánto le tocó a Carlos, José y María.\n"
   ]
  },
  {
   "cell_type": "code",
   "execution_count": 1,
   "metadata": {},
   "outputs": [
    {
     "name": "stdout",
     "output_type": "stream",
     "text": [
      "Test de prueba del programa\n",
      "---------------------------\n",
      "FFFF \n",
      "FFFF \n",
      "FFFF \n"
     ]
    }
   ],
   "source": [
    "def calcularHerenciaCarlos(fortuna)\n",
    "\n",
    "end\n",
    "def calcularHerenciaJose(fortuna)\n",
    "\n",
    "end\n",
    "def calcularHerenciaMaria(fortuna)\n",
    "\n",
    "end\n",
    "#--- zona de test ----\n",
    "\n",
    "def test_calcularHerenciaCarlos\n",
    "    print validate(3000.0, calcularHerenciaCarlos(9000.0))\n",
    "    print validate(4000.0, calcularHerenciaCarlos(12000.0))\n",
    "    print validate(20000.0, calcularHerenciaCarlos(60000.0))\n",
    "    print validate(52116.33, calcularHerenciaCarlos(156349.0))\n",
    "end\n",
    "def test_calcularHerenciaJose\n",
    "    print validate(4000.0, calcularHerenciaJose(9000.0))\n",
    "    print validate(5333.33, calcularHerenciaJose(12000.0))\n",
    "    print validate(26666.67, calcularHerenciaJose(60000.0))\n",
    "    print validate(69488.44, calcularHerenciaJose(156349.0))\n",
    "end\n",
    "def test_calcularHerenciaMaria\n",
    "    print validate(2000.0, calcularHerenciaMaria(9000.0))\n",
    "    print validate(2666.67, calcularHerenciaMaria(12000.0))\n",
    "    print validate(13333.33, calcularHerenciaMaria(60000.0))\n",
    "    print validate(34744.22, calcularHerenciaMaria(156349.0))\n",
    "end\n",
    "def validate (expected, value)\n",
    " expected == value ? \".\" : \"F\"\n",
    "end\n",
    "\n",
    "def test   \n",
    "  puts \"Test de prueba del programa\"\n",
    "  puts \"---------------------------\"\n",
    "  test_calcularHerenciaCarlos\n",
    "  puts \" \" \n",
    "  test_calcularHerenciaJose\n",
    "  puts \" \" \n",
    "  test_calcularHerenciaMaria\n",
    "  puts \" \" \n",
    "end\n",
    "test\n"
   ]
  }
 ],
 "metadata": {
  "kernelspec": {
   "display_name": "Ruby 2.2.6",
   "language": "ruby",
   "name": "ruby"
  },
  "language_info": {
   "file_extension": ".rb",
   "mimetype": "application/x-ruby",
   "name": "ruby",
   "version": "2.2.6"
  }
 },
 "nbformat": 4,
 "nbformat_minor": 2
}
