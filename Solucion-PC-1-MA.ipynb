{
 "cells": [
  {
   "cell_type": "markdown",
   "metadata": {},
   "source": [
    "Solucion Explicada"
   ]
  },
  {
   "cell_type": "markdown",
   "metadata": {},
   "source": [
    "<div class=\"alert alert-block alert-success\">\n",
    "<b>Pregunta 1</b> \n",
    "<br>a)Calcular el costo de pasajes ida y vuela\t\t(2 puntos) \n",
    "</div>\n"
   ]
  },
  {
   "cell_type": "markdown",
   "metadata": {},
   "source": [
    "<div class=\"alert alert-block alert-warning\">\n",
    "<br>En todas las plantillas que se usan en el curso la rutina **validate** sirve para comparar los resultados de nuestro algoritmo con el valor esperado.\n",
    "<br> Si el resultado es **idéntico** se imprime un punto y sino, se imprime una letra F\n",
    "</div>\n"
   ]
  },
  {
   "cell_type": "code",
   "execution_count": 21,
   "metadata": {},
   "outputs": [
    {
     "data": {
      "text/plain": [
       ":validate"
      ]
     },
     "execution_count": 21,
     "metadata": {},
     "output_type": "execute_result"
    }
   ],
   "source": [
    "def validate (expected, value)\n",
    "    expected == value ? \".\" : \"F\"\n",
    "end"
   ]
  },
  {
   "cell_type": "markdown",
   "metadata": {},
   "source": [
    "A continuación está el código que soluciona la primera pregunta.\n",
    "\n",
    "\n",
    "<div class=\"alert alert-block alert-info\">\n",
    "<b>OJO:</b>\n",
    "  <br>En este caso hemos utilizado un IF-END por cada empresa y dentro de ello hemos usado el CASE para los tipos de paquete. \n",
    "  <br>Tambien pudo haberse implementado con CASE o IF-ELSIF\n",
    "  <br>Se espera que hayas escrito un código similar\n",
    "</div>"
   ]
  },
  {
   "cell_type": "code",
   "execution_count": 22,
   "metadata": {},
   "outputs": [
    {
     "data": {
      "text/plain": [
       ":costoPasajes"
      ]
     },
     "execution_count": 22,
     "metadata": {},
     "output_type": "execute_result"
    }
   ],
   "source": [
    "def costoPasajes(codigo, pasajeros)\n",
    "  costo=0\n",
    "  if(codigo == \"TC\")\n",
    "    costo=560\n",
    "  elsif(codigo == \"MX\")\n",
    "    costo=580\n",
    "  elsif(codigo == \"LA\")\n",
    "    costo=630\n",
    "  end\n",
    "  return costo*pasajeros\n",
    "end"
   ]
  },
  {
   "cell_type": "markdown",
   "metadata": {},
   "source": [
    "La rutina **costoPasajes** sirve para probar si nuestro algoritmo retorna los resultados correctos"
   ]
  },
  {
   "cell_type": "code",
   "execution_count": 23,
   "metadata": {},
   "outputs": [
    {
     "data": {
      "text/plain": [
       ":test_costoPasajes"
      ]
     },
     "execution_count": 23,
     "metadata": {},
     "output_type": "execute_result"
    }
   ],
   "source": [
    "def test_costoPasajes\n",
    "\tputs\"Pasajes\"\n",
    "    print validate(1120, costoPasajes(\"TC\",2)) \n",
    "\tprint validate(1890, costoPasajes(\"LA\",3)) \n",
    "\tprint validate(2900, costoPasajes(\"MX\",5)) \n",
    "\tputs \"\"\n",
    "end"
   ]
  },
  {
   "cell_type": "markdown",
   "metadata": {},
   "source": [
    "Y ahora viene el programa principal que ejecuta la rutina de prueba e invoca a nuestro código:"
   ]
  },
  {
   "cell_type": "code",
   "execution_count": 24,
   "metadata": {},
   "outputs": [
    {
     "name": "stdout",
     "output_type": "stream",
     "text": [
      "Test de prueba del costoPasajes\n",
      "---------------------------\n",
      "Pasajes\n",
      "...\n"
     ]
    }
   ],
   "source": [
    "  puts \"Test de prueba del costoPasajes\"\n",
    "  puts \"---------------------------\"\n",
    "  test_costoPasajes"
   ]
  },
  {
   "cell_type": "markdown",
   "metadata": {},
   "source": [
    "<div class=\"alert alert-block alert-success\">\n",
    "<b>Pregunta 2</b> \n",
    "<br>Calcular el costo del alojamiento\t\t(4 puntos)\n",
    "</div>"
   ]
  },
  {
   "cell_type": "markdown",
   "metadata": {},
   "source": [
    "<div class=\"alert alert-block alert-info\">\n",
    "<b>OJO:</b>\n",
    "Observar que lo hemos implementado con IF-ELSIF-ELSE, pero pudo haberse implementado con puros IF-END o con CASE\n",
    "Los datos los hemos tomado del segundo cuadro que figura en el texto del caso.    \n",
    "Se espera que hayas escrito un código similar\n",
    "</div>"
   ]
  },
  {
   "cell_type": "code",
   "execution_count": 25,
   "metadata": {},
   "outputs": [
    {
     "data": {
      "text/plain": [
       ":costoAlojamiento"
      ]
     },
     "execution_count": 25,
     "metadata": {},
     "output_type": "execute_result"
    }
   ],
   "source": [
    "def costoAlojamiento(codigo, dias, pasajeros)\n",
    "  #el costo del alojamiento considera el tipo , cantidad de dias y cant de pasajeros\n",
    "  costo=0\n",
    "  case codigo\n",
    "    when \"A001\" then costo=273\n",
    "    when \"A002\" then costo=260\n",
    "    when \"A003\" then costo=135\n",
    "    when \"A004\" then costo=140\n",
    "    when \"A005\" then costo=65\n",
    "    when \"A006\" then costo=70\n",
    "    else costo=0\n",
    "  end\n",
    "\n",
    "  return costo*dias*pasajeros\n",
    "end \n"
   ]
  },
  {
   "cell_type": "markdown",
   "metadata": {},
   "source": [
    "La rutina **test_costoAlojamiento** sirve para probar si nuestro algoritmo retorna los resultados correctos"
   ]
  },
  {
   "cell_type": "code",
   "execution_count": 26,
   "metadata": {},
   "outputs": [
    {
     "data": {
      "text/plain": [
       ":test_costoAlojamiento"
      ]
     },
     "execution_count": 26,
     "metadata": {},
     "output_type": "execute_result"
    }
   ],
   "source": [
    "def test_costoAlojamiento\n",
    "    puts  \"Alojamiento\"\n",
    "    print validate(2730,costoAlojamiento(\"A001\",5,2)) \n",
    "    print validate(810,costoAlojamiento(\"A003\",3,2)) \n",
    "    print validate(280,costoAlojamiento(\"A006\",2,2)) \n",
    "    puts \"\"\n",
    "\n",
    " end"
   ]
  },
  {
   "cell_type": "markdown",
   "metadata": {},
   "source": [
    "Y ahora viene el programa principal que ejecuta la rutina de prueba e invoca a nuestro código:"
   ]
  },
  {
   "cell_type": "code",
   "execution_count": 27,
   "metadata": {},
   "outputs": [
    {
     "name": "stdout",
     "output_type": "stream",
     "text": [
      "Test de prueba del costoAlojamiento\n",
      "---------------------------\n",
      "Alojamiento\n",
      "...\n"
     ]
    }
   ],
   "source": [
    "  puts \"Test de prueba del costoAlojamiento\"\n",
    "  puts \"---------------------------\"\n",
    "  test_costoAlojamiento"
   ]
  },
  {
   "cell_type": "markdown",
   "metadata": {},
   "source": [
    "<div class=\"alert alert-block alert-success\">\n",
    "<b>Pregunta 3</b> \n",
    "<br>Calcular el costo de visitar los 3 parques \t(2 puntos)\n",
    "</div>"
   ]
  },
  {
   "cell_type": "code",
   "execution_count": 28,
   "metadata": {},
   "outputs": [
    {
     "data": {
      "text/plain": [
       ":costoParques"
      ]
     },
     "execution_count": 28,
     "metadata": {},
     "output_type": "execute_result"
    }
   ],
   "source": [
    "def costoParques(cantidad)\n",
    "  #el paquete incluye todos los parques\n",
    "  return cantidad*545\n",
    "end"
   ]
  },
  {
   "cell_type": "markdown",
   "metadata": {},
   "source": [
    "La rutina **test_costoParques** sirve para probar si nuestro algoritmo retorna los resultados correctos"
   ]
  },
  {
   "cell_type": "code",
   "execution_count": 29,
   "metadata": {},
   "outputs": [
    {
     "data": {
      "text/plain": [
       ":test_costoParques"
      ]
     },
     "execution_count": 29,
     "metadata": {},
     "output_type": "execute_result"
    }
   ],
   "source": [
    "def test_costoParques\n",
    "  puts  \"Parques\"\n",
    "  print validate(2725,costoParques(5))\n",
    "  print validate(1635,costoParques(3))\n",
    "  print validate(1090,costoParques(2))\n",
    "  puts \"\"\n",
    "end"
   ]
  },
  {
   "cell_type": "markdown",
   "metadata": {},
   "source": [
    "Y ahora viene el programa principal que ejecuta la rutina de prueba e invoca a nuestro código:"
   ]
  },
  {
   "cell_type": "code",
   "execution_count": 30,
   "metadata": {},
   "outputs": [
    {
     "name": "stdout",
     "output_type": "stream",
     "text": [
      "Test de prueba del costoParques\n",
      "---------------------------\n",
      "Parques\n",
      "...\n"
     ]
    }
   ],
   "source": [
    "  puts \"Test de prueba del costoParques\"\n",
    "  puts \"---------------------------\"\n",
    "  test_costoParques"
   ]
  },
  {
   "cell_type": "markdown",
   "metadata": {},
   "source": [
    "<div class=\"alert alert-block alert-success\">\n",
    "<b>Pregunta 4</b> \n",
    "<br>Calcular el costo del paquete\t\t\t(2 puntos)\n",
    "</div>"
   ]
  },
  {
   "cell_type": "markdown",
   "metadata": {},
   "source": [
    "<div class=\"alert alert-block alert-info\">\n",
    "<b>OJO:</b>\n",
    "<br>Nos están solicitando calcular algo en función a información que ya habiamos calculado previamente con las preguntas 1 y 2\n",
    "<br>En este caso no tiene sentido volver a escribir el código por lo que la opción más directa es invocar a dichas rutinas\n",
    "<br>Se espera que hayas escrito un código similar\n",
    "</div>"
   ]
  },
  {
   "cell_type": "code",
   "execution_count": 36,
   "metadata": {},
   "outputs": [
    {
     "data": {
      "text/plain": [
       ":costoPaquete"
      ]
     },
     "execution_count": 36,
     "metadata": {},
     "output_type": "execute_result"
    }
   ],
   "source": [
    "def costoPaquete(costoPasajes,costoAlojamiento,costoParques)\n",
    "  #Asumiendo que ya tienen los costos de cada componente del paquete\n",
    "  costoPaquete = 0\n",
    "  costoPaquete = costoPasajes + costoAlojamiento + costoParques\n",
    "  return costoPaquete\n",
    "end"
   ]
  },
  {
   "cell_type": "markdown",
   "metadata": {},
   "source": [
    "La rutina **test_costoPaquete** sirve para probar si nuestro algoritmo retorna los resultados correctos"
   ]
  },
  {
   "cell_type": "code",
   "execution_count": 38,
   "metadata": {},
   "outputs": [
    {
     "data": {
      "text/plain": [
       ":test_costoPaquete"
      ]
     },
     "execution_count": 38,
     "metadata": {},
     "output_type": "execute_result"
    }
   ],
   "source": [
    "def test_costoPaquete\n",
    "  puts \"Costo del paquete\"\n",
    "  print validate(6575,costoPaquete(costoPasajes(\"TC\",2),costoAlojamiento(\"A001\",5,2),costoParques(5)))\n",
    "  print validate(4335,costoPaquete(costoPasajes(\"LA\",3),costoAlojamiento(\"A003\",3,2),costoParques(3)))\n",
    "  print validate(4270,costoPaquete(costoPasajes(\"MX\",5),costoAlojamiento(\"A006\",2,2),costoParques(2)))\n",
    "  puts \"\"\n",
    "end"
   ]
  },
  {
   "cell_type": "markdown",
   "metadata": {},
   "source": [
    "Y ahora viene el programa principal que ejecuta la rutina de prueba e invoca a nuestro código:"
   ]
  },
  {
   "cell_type": "code",
   "execution_count": 39,
   "metadata": {},
   "outputs": [
    {
     "name": "stdout",
     "output_type": "stream",
     "text": [
      "Test de prueba del costoPaquete\n",
      "---------------------------\n",
      "Costo del paquete\n",
      "...\n"
     ]
    }
   ],
   "source": [
    "  puts \"Test de prueba del costoPaquete\"\n",
    "  puts \"---------------------------\"\n",
    "  test_costoPaquete"
   ]
  }
 ],
 "metadata": {
  "kernelspec": {
   "display_name": "Ruby 2.2.6",
   "language": "ruby",
   "name": "ruby"
  },
  "language_info": {
   "file_extension": ".rb",
   "mimetype": "application/x-ruby",
   "name": "ruby",
   "version": "2.2.6"
  }
 },
 "nbformat": 4,
 "nbformat_minor": 2
}
