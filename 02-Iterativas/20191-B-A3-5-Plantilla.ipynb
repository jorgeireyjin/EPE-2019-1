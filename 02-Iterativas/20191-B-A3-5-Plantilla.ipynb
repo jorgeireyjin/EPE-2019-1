{
 "cells": [
  {
   "cell_type": "markdown",
   "metadata": {},
   "source": [
    "### Pregunta 5\n",
    "\n",
    "Desarrollar un subprograma con WHILE que determine la cantidad dólares, euros y francos suizos que obtendrá de una cantidad “n” de soles. \n",
    "Considerando que siempre debe cambiar \n",
    "* 1 billete de 100, 20 y 10 dólares; \n",
    "* 1 billete de 50, 10 y 5 euros; \n",
    "* 1 billete de 30, 15 y 2 francos suizos. \n",
    "\n",
    "El programa debe devolver la cantidad de billetes que obtendrá. \n",
    "Considere el tipo de cambio 3.35 soles a dólares, 3.20 soles a euros y 3.15 soles a francos.\n",
    "\n",
    "Ejemplo: n = 800 soles; deberá devolver 9 billetes cambiados de la siguiente manera:\n",
    "<img src=\"20191-MB-A3-5.jpg\" alt=\"ejemplo\" title=\"Ejemplo para 800 soles\" />"
   ]
  },
  {
   "cell_type": "markdown",
   "metadata": {},
   "source": [
    "<div class=\"alert alert-block alert-danger\">\n",
    "<b>Tip:</b> LEer y entender bien el texto.\n",
    "Estan solicitando devolver la cantidad de billetes independientemente de si se logra convertir todos los soles.\n",
    "Hay una restricción sobre la cantidad de billetes de cada denominación (Ahí està el truco !!)\n",
    "</div>"
   ]
  },
  {
   "cell_type": "code",
   "execution_count": null,
   "metadata": {},
   "outputs": [
    {
     "name": "stdout",
     "output_type": "stream",
     "text": [
      "Test de prueba del programa\n",
      "---------------------------\n"
     ]
    }
   ],
   "source": [
    "def determina_billetes(soles)\n",
    "\n",
    "    cont = 0\n",
    "\n",
    "    while soles > 0\n",
    "      \n",
    "    end\n",
    "    #puts cont\n",
    "    return cont\n",
    "end\n",
    "\n",
    "\n",
    "#--- zona de test ----\n",
    "\n",
    "def test_determina_billetes\n",
    "    print validate(  9, determina_billetes(  793.0))\n",
    "    print validate(171, determina_billetes(15350.0))\n",
    "    print validate(225, determina_billetes(20000.0))\n",
    "    print validate( 36, determina_billetes( 3500.0))\n",
    "    print validate(144, determina_billetes(12750.0))\n",
    "  end\n",
    "\n",
    "\n",
    "def validate (expected, value)\n",
    " expected == value ? \".\" : \"F\"\n",
    "end\n",
    "\n",
    "def test\n",
    "  puts \"Test de prueba del programa\"\n",
    "  puts \"---------------------------\"\n",
    "  test_determina_billetes\n",
    "  puts \" \"\n",
    "end\n",
    "\n",
    "test"
   ]
  }
 ],
 "metadata": {
  "kernelspec": {
   "display_name": "Ruby 2.2.6",
   "language": "ruby",
   "name": "ruby"
  },
  "language_info": {
   "file_extension": ".rb",
   "mimetype": "application/x-ruby",
   "name": "ruby",
   "version": "2.2.6"
  }
 },
 "nbformat": 4,
 "nbformat_minor": 2
}
