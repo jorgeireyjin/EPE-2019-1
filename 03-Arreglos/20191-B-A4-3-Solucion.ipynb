{
 "cells": [
  {
   "cell_type": "markdown",
   "metadata": {},
   "source": [
    "### Pregunta 3\n",
    "\n",
    "En una granja se requiere saber alguna información para determinar el precio de venta por cada kilo de huevo. \n",
    "Es importante determinar el promedio de calidad de las n gallinas que hay en la granja. \n",
    "\n",
    "La calidad de cada gallina se obtiene según la fórmula:\n",
    "\n",
    "\t\tcalidad = peso de la gallina * altura de la gallina * número de huevos que pone\n",
    "\n",
    "\t\t\t      \n",
    "Finalmente, para fijar el precio del kilo de huevo, se toma como base la siguiente tabla:\n",
    "<table>\n",
    "<tr>\n",
    "  <td>**RANGO DE CALIDAD**</td>\n",
    "  <td>**PRECIO DE KILO DE HUEVO**</td>\n",
    "<tr>\n",
    "<tr>\n",
    "  <td>mayor o igual que 15</td>\n",
    "  <td>1.2 * promedio de calidad</td>\n",
    "<tr>\n",
    "<tr>\n",
    "  <td>mayor que 8 y menor que 15</td>\n",
    "  <td>1.00 * promedio de calidad</td>\n",
    "<tr>\n",
    "<tr>\n",
    "  <td>menor o igual que 8</td>\n",
    "  <td>0.80 * promedio de calidad</td>\n",
    "<tr>\n",
    "</table>\n",
    "\n",
    "\n",
    "Con los datos obtenidos se solicita lo siguiente:\n",
    "1. Determinar cuál es la calidad de una gallina.\n",
    "1. Determinar cuál es la calidad de una muestra.\n",
    "1. Determinar cuál es el precio del kilo de huevos de una muestra de gallinas.\n",
    "\n"
   ]
  },
  {
   "cell_type": "code",
   "execution_count": 3,
   "metadata": {},
   "outputs": [
    {
     "data": {
      "text/plain": [
       ":calcularCalidadGallina"
      ]
     },
     "execution_count": 3,
     "metadata": {},
     "output_type": "execute_result"
    }
   ],
   "source": [
    "def calcularCalidadGallina(peso, altura, huevos)\n",
    "  return (peso*altura*huevos).round(2)\n",
    "end"
   ]
  },
  {
   "cell_type": "markdown",
   "metadata": {},
   "source": [
    "<div class=\"alert alert-block alert-danger\">\n",
    "<b>Tener en cuenta:</b> \n",
    "<ol>\n",
    "    <li>Lo que se envía a la subrutina son 3 arreglos con la información respectiva.</li>\n",
    "    <li>Se debe obtebner la calidad de cada gallina de la muestra (invocando a la rutina anterior)</li>\n",
    "    <li>Tener presente que los arreglos están vinculados entre sí por medio del \"indice\"</li>\n",
    "    <li>Finalmente se debe hallar el promedio</li>\n",
    "</ol>\n",
    "</div>"
   ]
  },
  {
   "cell_type": "code",
   "execution_count": 2,
   "metadata": {},
   "outputs": [
    {
     "data": {
      "text/plain": [
       ":calcularCalidadGranja"
      ]
     },
     "execution_count": 2,
     "metadata": {},
     "output_type": "execute_result"
    }
   ],
   "source": [
    "def calcularCalidadGranja(pesos, alturas, huevos)\n",
    "  tamano_muestra = pesos.size\n",
    "  suma = 0\n",
    "  for i in 0..pesos.size-1\n",
    "    suma = suma + calcularCalidadGallina( pesos[i],alturas[i],huevos[i] )\n",
    "  end\n",
    "  \n",
    "  return (suma*1.0/tamano_muestra).round(2)\n",
    "  \n",
    "end\n"
   ]
  },
  {
   "cell_type": "markdown",
   "metadata": {},
   "source": [
    "<div class=\"alert alert-block alert-info\">\n",
    "<p>Se debe utilizar el cuadro proporcionado en el enunciado. Pero previamente se debe calcular la calidad de la muestra</p>\n",
    "</div>"
   ]
  },
  {
   "cell_type": "code",
   "execution_count": 5,
   "metadata": {},
   "outputs": [
    {
     "data": {
      "text/plain": [
       ":determinarPrecio"
      ]
     },
     "execution_count": 5,
     "metadata": {},
     "output_type": "execute_result"
    }
   ],
   "source": [
    "def determinarPrecio(pesos, alturas, huevos)\n",
    "  calidadMuestra = calcularCalidadGranja(pesos, alturas, huevos)\n",
    "  precio = 0\n",
    "\n",
    "  if calidadMuestra >= 15\n",
    "    precio = calidadMuestra * 1.2\n",
    "  elsif calidadMuestra > 8 and calidadMuestra < 15\n",
    "    precio = calidadMuestra * 1.0\n",
    "  else \n",
    "    precio = calidadMuestra * 0.8\n",
    "  end\n",
    "\n",
    "  return precio.round(2)\n",
    "end"
   ]
  },
  {
   "cell_type": "code",
   "execution_count": 6,
   "metadata": {},
   "outputs": [
    {
     "name": "stdout",
     "output_type": "stream",
     "text": [
      "Test de prueba del programa\n",
      "---------------------------\n",
      "......... \n"
     ]
    }
   ],
   "source": [
    "    \n",
    "#----------Zona de Test------------------\n",
    "\n",
    "def probarCalcularCalidadGallina\n",
    "    print validate(7.74, calcularCalidadGallina(8.6,0.45,2))\n",
    "    print validate(5.32, calcularCalidadGallina(7.6,0.35,2))\n",
    "    print validate(3.50, calcularCalidadGallina(9.2,0.38,1))\n",
    "end\n",
    "\n",
    "def probarCalcularCalidadGranja\n",
    "    print validate(9.01, calcularCalidadGranja(@peso1, @altura1, @huevo1))\n",
    "    print validate(10.29, calcularCalidadGranja(@peso2, @altura2, @huevo2))\n",
    "    print validate(4.99, calcularCalidadGranja(@peso3, @altura3, @huevo3))\n",
    "end\n",
    "\n",
    "def probarDeterminarPrecio\n",
    "    print validate(9.01, determinarPrecio(@peso1, @altura1, @huevo1))\n",
    "    print validate(10.29, determinarPrecio(@peso2, @altura2, @huevo2))\n",
    "    print validate(3.99, determinarPrecio(@peso3, @altura3, @huevo3))\n",
    "end\n",
    " \n",
    "#----------------zona de test-----------------\n",
    "\n",
    "@peso1 =[8.60,7.22,6.63,9.54]\n",
    "@peso2 =[7.50,6.99,8.88,9.54]\n",
    "@peso3 =[9.88,9.45,6.77,7.21]\n",
    "\n",
    "@altura1 =[0.45,0.46,0.47,0.43]\n",
    "@altura2 =[0.55,0.56,0.57,0.53]\n",
    "@altura3 =[0.35,0.36,0.37,0.33]\n",
    "\n",
    "@huevo1 =[2,2,3,3]\n",
    "@huevo2 =[1,3,3,2]\n",
    "@huevo3 =[2,1,1,3]\n",
    "\n",
    "\n",
    "def validate (expected, value)\n",
    " expected == value ? \".\" : \"F\"\n",
    "end\n",
    "\n",
    "def test\n",
    "  puts \"Test de prueba del programa\"\n",
    "  puts \"---------------------------\"\n",
    "  probarCalcularCalidadGallina\n",
    "  probarCalcularCalidadGranja\n",
    "  probarDeterminarPrecio\n",
    "  puts \" \"\n",
    "end\n",
    "\n",
    "test"
   ]
  }
 ],
 "metadata": {
  "kernelspec": {
   "display_name": "Ruby 2.2.6",
   "language": "ruby",
   "name": "ruby"
  },
  "language_info": {
   "file_extension": ".rb",
   "mimetype": "application/x-ruby",
   "name": "ruby",
   "version": "2.2.6"
  }
 },
 "nbformat": 4,
 "nbformat_minor": 2
}
