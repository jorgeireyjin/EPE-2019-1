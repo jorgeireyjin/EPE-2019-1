{
 "cells": [
  {
   "cell_type": "markdown",
   "metadata": {},
   "source": [
    "### Pregunta 2\n",
    "\n",
    "En los últimos meses se ha incrementado la venta de inmuebles en Lima. \n",
    "A continuación, se muestra una tabla en donde se observa los precios aproximados de los departamentos de 100m2 en cinco distritos de Lima Metropolitana:\n",
    "\n",
    "<table>\n",
    "<tr>\n",
    "  <td>**Distrito**</td>\n",
    "  <td>**Precio Departamento**</td>\n",
    "  <td>**Precio Cochera**</td>\n",
    "<tr>\n",
    "<tr>\n",
    "  <td>**San Miguel**</td>\n",
    "  <td>350,000</td>\n",
    "  <td>40,000</td>\n",
    "<tr>\n",
    "<tr>\n",
    "  <td>**Pueblo Libre**</td>\n",
    "  <td>450,000</td>\n",
    "  <td>45,000</td>\n",
    "<tr>\n",
    "<tr>\n",
    "  <td>**Jesús María**</td>\n",
    "  <td>600,000</td>\n",
    "  <td>50,000</td>\n",
    "<tr>\n",
    "<tr>\n",
    "  <td>**Lince**</td>\n",
    "  <td>450,000</td>\n",
    "  <td>45,000</td>\n",
    "<tr>\n",
    "<tr>\n",
    "  <td>**San Isidro**</td>\n",
    "  <td>800,000</td>\n",
    "  <td>60,000</td>\n",
    "<tr>\n",
    "</table>\n",
    "\n",
    "Desarrolle un programa que permita:\n",
    "1. Conocer el precio de un departamento según el distrito y si se desea o no cochera.\n",
    "1. Conocer el monto de cuota inicial. Para esto sabrá el distrito, si desea o no cochera y si es su primer departamento o no. La cuota inicial en caso sea primer departamento es 10% y en caso de segundo departamento es 20%.\n",
    "\n"
   ]
  },
  {
   "cell_type": "code",
   "execution_count": 2,
   "metadata": {},
   "outputs": [
    {
     "name": "stdout",
     "output_type": "stream",
     "text": [
      "Test de prueba del programa\n",
      "---------------------------\n",
      "FFFFFFF \n"
     ]
    }
   ],
   "source": [
    "def calcularPrecioFinal(distrito, cochera)\n",
    "\n",
    "end\n",
    "\n",
    "def calcularCuotaInicial(distrito, cochera, primerinmueble)\n",
    "\n",
    "end\n",
    " \n",
    "\n",
    "#--- zona de test ----\n",
    "\n",
    "def test_calcularPrecioFinal\n",
    "  print validate(390000, calcularPrecioFinal(\"San Miguel\", true)) \n",
    "\tprint validate(860000, calcularPrecioFinal(\"San Isidro\", true)) \n",
    "\tprint validate(450000, calcularPrecioFinal(\"Lince\", false)) \n",
    "end\n",
    "\n",
    "def test_calcularCuotaInicial\n",
    "  print validate(60000, calcularCuotaInicial(\"Jesús María\", false, true)) \n",
    "\tprint validate(172000, calcularCuotaInicial(\"San Isidro\", true, false)) \n",
    "\tprint validate(49500, calcularCuotaInicial(\"Pueblo Libre\", true, true)) \n",
    "\tprint validate(78000, calcularCuotaInicial(\"San Miguel\", true, false)) \n",
    "end\n",
    " \n",
    "\n",
    "def validate (expected, value)\n",
    " expected == value ? \".\" : \"F\"\n",
    "end\n",
    "\n",
    "def test\n",
    " \n",
    "  puts \"Test de prueba del programa\"\n",
    "  puts \"---------------------------\"\n",
    "  test_calcularPrecioFinal\n",
    "  test_calcularCuotaInicial \n",
    "  puts \" \"\n",
    "  \n",
    "end\n",
    "test"
   ]
  }
 ],
 "metadata": {
  "kernelspec": {
   "display_name": "Ruby 2.2.6",
   "language": "ruby",
   "name": "ruby"
  },
  "language_info": {
   "file_extension": ".rb",
   "mimetype": "application/x-ruby",
   "name": "ruby",
   "version": "2.2.6"
  }
 },
 "nbformat": 4,
 "nbformat_minor": 2
}
