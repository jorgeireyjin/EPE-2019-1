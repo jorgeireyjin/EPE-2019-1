{
 "cells": [
  {
   "cell_type": "markdown",
   "metadata": {},
   "source": [
    "### Pregunta 2\n",
    "\n",
    "Desarrolla un subprograma que dado dos números (n1 y n2) determine cuantos números múltiplos de n1 hay en el rango que va desde 1 hasta n2.\n",
    "\n",
    "Ejemplo: dado n1 = 2 y n2 = 16, debe devolver 8 (hay 8 números múltiplos de n1 que son 2, 4, 6, 8, 10, 12, 14, 16).\n"
   ]
  },
  {
   "cell_type": "code",
   "execution_count": 1,
   "metadata": {},
   "outputs": [
    {
     "name": "stdout",
     "output_type": "stream",
     "text": [
      "Test de prueba del programa\n",
      "---------------------------\n",
      "FFFF \n"
     ]
    }
   ],
   "source": [
    "def cuentaMultiplos(numero1 , numero2)\n",
    "    cuenta=0\n",
    "\n",
    "\n",
    "    #puts cuenta\n",
    "    return cuenta\n",
    "end\n",
    "\n",
    "\n",
    "#--- zona de test ----\n",
    "\n",
    "def test_cuentaMultiplos\n",
    "    print validate(  8, cuentaMultiplos( 2,  16))\n",
    "    print validate(435, cuentaMultiplos( 5,2178))\n",
    "    print validate( 29, cuentaMultiplos(11, 324))\n",
    "    print validate( 41, cuentaMultiplos( 7, 289))\n",
    "  end\n",
    "\n",
    "\n",
    "def validate (expected, value)\n",
    " expected == value ? \".\" : \"F\"\n",
    "end\n",
    "\n",
    "def test\n",
    "  puts \"Test de prueba del programa\"\n",
    "  puts \"---------------------------\"\n",
    "  test_cuentaMultiplos\n",
    "  puts \" \"\n",
    "end\n",
    "\n",
    "test"
   ]
  }
 ],
 "metadata": {
  "kernelspec": {
   "display_name": "Ruby 2.2.6",
   "language": "ruby",
   "name": "ruby"
  },
  "language_info": {
   "file_extension": ".rb",
   "mimetype": "application/x-ruby",
   "name": "ruby",
   "version": "2.2.6"
  }
 },
 "nbformat": 4,
 "nbformat_minor": 2
}
