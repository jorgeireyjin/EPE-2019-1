{
 "cells": [
  {
   "cell_type": "markdown",
   "metadata": {},
   "source": [
    "### Pregunta 3\n",
    "Una persona compra una cantidad de unidades de un producto, sobre esa compra debe pagar un impuesto del 18%. \n",
    "Calcular el impuesto y el importe total a pagar.   \n",
    "\n",
    "Ejemplo: si compra por 100 soles, su impuesto es 18 soles y el importe total es 118 soles. "
   ]
  },
  {
   "cell_type": "code",
   "execution_count": 1,
   "metadata": {},
   "outputs": [
    {
     "name": "stdout",
     "output_type": "stream",
     "text": [
      "Test de prueba del programa\n",
      "---------------------------\n",
      "FFFF \n",
      "FFFF \n",
      "FFFF \n"
     ]
    }
   ],
   "source": [
    "def importesinImpuesto(precioUnitario, cantidad)\n",
    "\n",
    "end\n",
    "def calculaimpuesto(precioUnitario, cantidad)\n",
    "\t\n",
    "end\n",
    "def calculaimporteTotal(precioUnitario, cantidad)\n",
    "  \n",
    "end\n",
    "#--- zona de test ----\n",
    "\n",
    "def test_importesinImpuesto\n",
    "    print validate(100, importesinImpuesto(10,10))\n",
    "    print validate(925, importesinImpuesto(185,5))\n",
    "    print validate(596, importesinImpuesto(149,4))\n",
    "    print validate(214, importesinImpuesto(107,2))\n",
    "end\n",
    "\n",
    "def test_calculaimpuesto\n",
    "    print validate(18.0, calculaimpuesto(10,10))\n",
    "    print validate(166.5, calculaimpuesto(185,5))\n",
    "    print validate(107.28, calculaimpuesto(149,4))\n",
    "    print validate(38.52, calculaimpuesto(107,2))\n",
    "end\n",
    "\n",
    "def test_calculaimporteTotal\n",
    "    print validate(118.0, calculaimporteTotal(10,10))\n",
    "    print validate(1091.5, calculaimporteTotal(185,5))\n",
    "    print validate(703.28, calculaimporteTotal(149,4))\n",
    "    print validate(252.52, calculaimporteTotal(107,2))\n",
    "end\n",
    "\n",
    "def validate (expected, value)\n",
    " expected == value ? \".\" : \"F\"\n",
    "end\n",
    "\n",
    "def test   \n",
    "  puts \"Test de prueba del programa\"\n",
    "  puts \"---------------------------\"\n",
    "  test_importesinImpuesto\n",
    "  puts \" \"\n",
    "  test_calculaimpuesto\n",
    "  puts \" \"\n",
    "  test_calculaimporteTotal\n",
    "  puts \" \"  \n",
    "end\n",
    "test\n"
   ]
  }
 ],
 "metadata": {
  "kernelspec": {
   "display_name": "Ruby 2.2.6",
   "language": "ruby",
   "name": "ruby"
  },
  "language_info": {
   "file_extension": ".rb",
   "mimetype": "application/x-ruby",
   "name": "ruby",
   "version": "2.2.6"
  }
 },
 "nbformat": 4,
 "nbformat_minor": 2
}
