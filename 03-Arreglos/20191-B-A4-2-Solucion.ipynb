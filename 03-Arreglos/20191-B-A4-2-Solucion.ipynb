{
 "cells": [
  {
   "cell_type": "markdown",
   "metadata": {},
   "source": [
    "### Pregunta 2\n",
    "\n",
    "Una empresa desea crear un sistema de seguridad adicional para los usuarios de su sistema de transferencia de dinero en línea. \n",
    "Para ello requiere una aplicación que le permita ingresar a una persona su fecha de nacimiento en el siguiente formato\n",
    "\n",
    "**24 de Julio de 1920**\n",
    "\n",
    "El sistema sumará los dígitos 24 + 7 + 1920 = 7 que será el llamado **número mágico de seguridad**. \n",
    "El número mágico es un valor que va entre 1 y 9. \n",
    "Con este número se podrá comprobar que la persona que ingresa sus datos es en realidad la persona que dice ser. \n",
    "\n",
    "Se pide:\n",
    "1. Desarrollar un subprograma que reciba el mes y devuelva el número de mes cuando se le envía el nombre del mes.\n",
    "1. Desarrollar un subprograma que permita calcular el número mágico de seguridad.\n"
   ]
  },
  {
   "cell_type": "code",
   "execution_count": 3,
   "metadata": {},
   "outputs": [
    {
     "data": {
      "text/plain": [
       ":numero_de_mes"
      ]
     },
     "execution_count": 3,
     "metadata": {},
     "output_type": "execute_result"
    }
   ],
   "source": [
    "def numero_de_mes(nombre_mes)\n",
    "  case nombre_mes\n",
    "    when \"enero\" then return 1\n",
    "    when \"febrero\" then return 2\n",
    "    when \"marzo\"  then return 3\n",
    "    when \"abril\" then return 4\n",
    "    when \"mayo\" then return 5\n",
    "    when \"junio\" then return 6\n",
    "    when \"julio\" then return 7\n",
    "    when \"agosto\" then return 8\n",
    "    when \"setiembre\" then return 9\n",
    "    when \"octubre\" then return 10\n",
    "    when \"noviembre\" then return 11\n",
    "    when \"diciembre\" then return 12\n",
    "  end\n",
    "end\n"
   ]
  },
  {
   "cell_type": "markdown",
   "metadata": {},
   "source": [
    "<div class=\"alert alert-block alert-danger\">\n",
    "<p>El texto del caso dice: \"El sistema sumará los dígitos 24 + 7 + 1920 = 7\"</p>\n",
    "<p>Segùn esto se debe \"pegar\" el dia  el mes y el año. Esto darà como resultado un número</p>\n",
    "<p>A ese numero hay que hallarle la suma de sus digitos</p>\n",
    "<p> Si el numero es mayor a 9,o sea tiene 2 digitos, debe volver a sumarse los digitos</p>\n",
    "</div>"
   ]
  },
  {
   "cell_type": "code",
   "execution_count": 8,
   "metadata": {},
   "outputs": [
    {
     "data": {
      "text/plain": [
       ":numero_magico"
      ]
     },
     "execution_count": 8,
     "metadata": {},
     "output_type": "execute_result"
    }
   ],
   "source": [
    "def numero_magico(dia, nombre_mes, anho)\n",
    "  # con nombre_mes invocar a la subturina anterior\n",
    "  mes =  numero_de_mes(nombre_mes)\n",
    "  numero = dia + mes + anho\n",
    "  suma = 0\n",
    "  \n",
    "  # Sumar los digitos\n",
    "  while numero > 0\n",
    "    suma = suma + (numero % 10)\n",
    "    numero = numero / 10\n",
    "  end\n",
    "  \n",
    "  # Como la suma va solo entre 1 y 9\n",
    "  if suma > 9\n",
    "    # Se supone que aqui el numero tiene 2 digitos (volver a sumar los digitos)\n",
    "    suma = suma % 10 + suma / 10     \n",
    "  end\n",
    "  \n",
    "  return suma\n",
    "end"
   ]
  },
  {
   "cell_type": "code",
   "execution_count": 7,
   "metadata": {},
   "outputs": [
    {
     "name": "stdout",
     "output_type": "stream",
     "text": [
      "Test de prueba del programa\n",
      "---------------------------\n",
      "........ \n"
     ]
    }
   ],
   "source": [
    "#--------------zona de test-------------------\n",
    "def test_numero_de_mes\n",
    "  print validate(1, numero_de_mes(\"enero\"))\n",
    "  print validate(5, numero_de_mes(\"mayo\"))\n",
    "  print validate(12, numero_de_mes(\"diciembre\"))\n",
    "  print validate(7, numero_de_mes(\"julio\"))\n",
    "end\n",
    "\n",
    "def test_numero_magico\n",
    "  print validate(8, numero_magico(1,\"enero\",1500))\n",
    "  print validate(3, numero_magico(30,\"julio\",1973))\n",
    "  print validate(5, numero_magico(11,\"setiembre\",2010))\n",
    "  print validate(6, numero_magico(20,\"enero\",1920))\n",
    "end\n",
    "\n",
    "def validate (expected, value)\n",
    " expected == value ? \".\" : \"F\"\n",
    "end\n",
    "\n",
    "def test\n",
    "   \n",
    "  puts \"Test de prueba del programa\"\n",
    "  puts \"---------------------------\"\n",
    "  test_numero_de_mes\n",
    "  test_numero_magico\n",
    "  puts \" \"\n",
    "end\n",
    "test"
   ]
  }
 ],
 "metadata": {
  "kernelspec": {
   "display_name": "Ruby 2.2.6",
   "language": "ruby",
   "name": "ruby"
  },
  "language_info": {
   "file_extension": ".rb",
   "mimetype": "application/x-ruby",
   "name": "ruby",
   "version": "2.2.6"
  }
 },
 "nbformat": 4,
 "nbformat_minor": 2
}
