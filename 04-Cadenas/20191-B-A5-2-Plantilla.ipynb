{
 "cells": [
  {
   "cell_type": "markdown",
   "metadata": {},
   "source": [
    "### Pregunta 2 \n",
    "\n",
    "El área de matrículas de UPC se encuentra evaluando la nueva codificación de estudiantes para facilitar la obtención de datos básicos. Los códigos de estudiantes están compuestos de la siguiente manera:\n",
    "\n",
    "Ejemplo:\n",
    "\n",
    "**MO201819002214M2101**, donde:\n",
    "-\tMO (2 caracteres): representa a la sede, SI – San Isidro, MO – Monterrico, SM – San Miguel, VL - Villa \n",
    "-\t2018 (4 caracteres): representa al año de ingreso.\n",
    "-\t19002214 (8 caracteres): representa el identificador del alumno.\n",
    "-\tM (1 carácter): representa el sexo del estudiante, M – Masculino, F – Femenino\n",
    "-\t21 (2 caracteres): representa la edad del estudiante.\n",
    "-\t01 (2 caracteres): representa la carrera, 01 – Sistemas, 02 – Industrial, 03 – Civil.\n",
    "\n",
    "Desarrolle los siguientes enunciados:\n",
    "1.\tDado un arreglo con códigos, determinar el número de estudiantes tienen sexo Masculino (M). \n",
    "1.\tDado un arreglo con códigos, un año y una sede, determinar el número de estudiantes que ingresaron ese año y en esa sede.\n",
    "1. Dada un arreglo con códigos y una carrera, se requiere obtener el porcentaje de alumnos de esa carrera.\n"
   ]
  },
  {
   "cell_type": "code",
   "execution_count": 2,
   "metadata": {},
   "outputs": [
    {
     "name": "stdout",
     "output_type": "stream",
     "text": [
      "Test de Prueba\n",
      "--------------\n",
      "F\n",
      "F\n",
      "F\n"
     ]
    }
   ],
   "source": [
    "#encoding:UTF-8\n",
    "def pregunta1(codigos)\n",
    "\t\n",
    "end\n",
    "\n",
    "def pregunta2(codigos, anho, sede)\n",
    "\t\n",
    "end\n",
    "\n",
    "def pregunta3(codigos, carrera)\n",
    "\t\n",
    "end\n",
    "\n",
    "#--- zona de test ----\n",
    "def test_pregunta1\n",
    "  \tprint validate(4, pregunta1(@arreglo1))\n",
    "end\n",
    "\n",
    "def test_pregunta2\n",
    "  \tprint validate(2, pregunta2(@arreglo1, \"2019\", \"SI\"))\n",
    "end\n",
    "\n",
    "def test_pregunta3\n",
    "  \tprint validate(40.0, pregunta3(@arreglo1, \"01\"))\n",
    "end\n",
    "\n",
    "def validate (expected, value)\n",
    " \texpected == value ? \".\" : \"F\"\n",
    "end\n",
    "\n",
    "def test\n",
    "\t@arreglo1 = [\"MO201819002214M2101\", \"SI201932145434M2501\", \"MO201920222214F2002\", \"SI201977643434M2202\", \"SM201977643434M2403\"]\n",
    "\t\n",
    "  \tputs \"Test de Prueba\"\n",
    "  \tputs \"--------------\"\n",
    "  \ttest_pregunta1\n",
    "  \tputs \"\"\n",
    "  \ttest_pregunta2\n",
    "  \tputs \"\"\n",
    "  \ttest_pregunta3\n",
    "  \tputs \"\"\n",
    "end\n",
    "\n",
    "test"
   ]
  }
 ],
 "metadata": {
  "kernelspec": {
   "display_name": "Ruby 2.2.6",
   "language": "ruby",
   "name": "ruby"
  },
  "language_info": {
   "file_extension": ".rb",
   "mimetype": "application/x-ruby",
   "name": "ruby",
   "version": "2.2.6"
  }
 },
 "nbformat": 4,
 "nbformat_minor": 2
}
