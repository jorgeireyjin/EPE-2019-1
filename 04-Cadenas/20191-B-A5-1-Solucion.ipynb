{
 "cells": [
  {
   "cell_type": "markdown",
   "metadata": {},
   "source": [
    "### Pregunta 1\n",
    "\n",
    "En el ultimo mes UPC ha efectuado una encuesta a los estudiantes del primer ciclo. El objetivo de la encuesta es confirmar si los estudiantes están satisfechos con la implementación de los nuevos campos deportivos.\n",
    "\n",
    "Desarrolle los siguientes enunciados:\n",
    "\n",
    "1. Retornar el % de estudiantes encuestados que estuvieron satisfechos con la implementación de los nuevos campos deportivos, redondeando a 2 decimales. Los resultados están registrados en un arreglo, donde “S” equivale a satisfechos y “N” no satisfechos.\n",
    "1. Retornar la carrera que tuve mayor número de estudiantes satisfechos “S”. Se tiene 2 arreglos donde el primer arreglo contiene las carreras y el segundo contiene el número de votos con estudiantes satisfechos.\n",
    "1. Retornar el total de estudiantes que efectuaron la encuesta. Se tiene un arreglo con las respuestas de los estudiantes.\n",
    "1. Retornar el numero de votos de alumnos satisfechos “S” para la carrera “Sistemas”. Se tiene 2 arreglos donde el primer arreglo contiene las carreras y el segundo contiene los votos con estudiantes.\n"
   ]
  },
  {
   "cell_type": "code",
   "execution_count": 1,
   "metadata": {},
   "outputs": [
    {
     "data": {
      "text/plain": [
       ":pregunta1"
      ]
     },
     "execution_count": 1,
     "metadata": {},
     "output_type": "execute_result"
    }
   ],
   "source": [
    "#encoding:UTF-8\n",
    "def pregunta1(votos)\n",
    "  contador = 0\n",
    "  \n",
    "  for i in 0..votos.size-1\n",
    "    if votos[i] == \"S\"\n",
    "      contador = contador + 1\n",
    "    end\n",
    "  end\n",
    "  \n",
    "  porcentaje = (contador * 1.0 / votos.size)*100\n",
    "\n",
    "  return porcentaje.round(2)\n",
    "end"
   ]
  },
  {
   "cell_type": "code",
   "execution_count": 2,
   "metadata": {},
   "outputs": [
    {
     "data": {
      "text/plain": [
       ":pregunta2"
      ]
     },
     "execution_count": 2,
     "metadata": {},
     "output_type": "execute_result"
    }
   ],
   "source": [
    "def pregunta2(votos, carreras)\n",
    "  mayor = 0\n",
    "  for i in 0..votos.size-1\n",
    "    if votos[i] > mayor\n",
    "      mayor = votos[i]\n",
    "    end\n",
    "  end\n",
    "\n",
    "  for i in 0..votos.size-1\n",
    "    if votos[i] == mayor\n",
    "      carrera = carreras[i]\n",
    "    end\n",
    "  end\n",
    "\n",
    "  return carrera\n",
    "end"
   ]
  },
  {
   "cell_type": "code",
   "execution_count": 6,
   "metadata": {},
   "outputs": [
    {
     "data": {
      "text/plain": [
       ":pregunta3"
      ]
     },
     "execution_count": 6,
     "metadata": {},
     "output_type": "execute_result"
    }
   ],
   "source": [
    "def pregunta3(votos)\n",
    "  return votos.size\n",
    "end"
   ]
  },
  {
   "cell_type": "code",
   "execution_count": 3,
   "metadata": {},
   "outputs": [
    {
     "data": {
      "text/plain": [
       ":pregunta4"
      ]
     },
     "execution_count": 3,
     "metadata": {},
     "output_type": "execute_result"
    }
   ],
   "source": [
    "def pregunta4(votos, carreras)\n",
    "  contador = 0\n",
    "  for i in 0..carreras.size-1\n",
    "    if (carreras[i] == \"Sistemas\" && votos[i] == \"S\")\n",
    "      contador = contador + 1\n",
    "    end\n",
    "  end\n",
    "\n",
    "  return contador\n",
    "end"
   ]
  },
  {
   "cell_type": "code",
   "execution_count": 7,
   "metadata": {},
   "outputs": [
    {
     "name": "stdout",
     "output_type": "stream",
     "text": [
      "Test de Prueba\n",
      "--------------\n",
      ".\n",
      ".\n",
      ".\n",
      ".\n"
     ]
    }
   ],
   "source": [
    "#--- zona de test ----\n",
    "def test_pregunta1\n",
    "  \tprint validate(75.0, pregunta1(@arreglo1))\n",
    "end\n",
    "\n",
    "def test_pregunta2\n",
    "  \tprint validate(\"Sistemas\", pregunta2(@arreglo2, @arreglo3))\n",
    "end\n",
    "\n",
    "def test_pregunta3\n",
    "  \tprint validate(20, pregunta3(@arreglo1))\n",
    "end\n",
    "\n",
    "def test_pregunta4\n",
    "  \tprint validate(5, pregunta4(@arreglo1, @arreglo4))\n",
    "end\n",
    "\n",
    "def validate (expected, value)\n",
    " \texpected == value ? \".\" : \"F\"\n",
    "end\n",
    "\n",
    "def test\n",
    "\t@arreglo1 = [\"S\", 'N', 'S', 'S', 'S', 'S', 'N', 'N', 'S', 'S', 'S', 'S', 'S', 'N', 'S', 'S', 'N', 'S', 'S', 'S']\n",
    "\t@arreglo2 = [128, 102, 150, 58, 151, 160]\n",
    "\t@arreglo3 = [\"Marketing\", \"Civil\", \"Medicina\", \"Derecho\", \"Administracion\", \"Sistemas\"]\t\n",
    "\t@arreglo4 = [\"Marketing\", \"Civil\", \"Medicina\", \"Sistemas\", \"Administracion\", \"Sistemas\", \"Sistemas\", \"Civil\", \"Medicina\", \"Derecho\", \"Administracion\", \"Sistemas\", \"Sistemas\", \"Sistemas\", \"Marketing\", \"Civil\", \"Medicina\", \"Derecho\", \"Administracion\", \"Sistemas\"]\n",
    "\n",
    "  \tputs \"Test de Prueba\"\n",
    "  \tputs \"--------------\"\n",
    "  \ttest_pregunta1\n",
    "  \tputs \"\"\n",
    "  \ttest_pregunta2\n",
    "  \tputs \"\"\n",
    "  \ttest_pregunta3\n",
    "  \tputs \"\"\n",
    "  \ttest_pregunta4\n",
    "  \tputs \"\"\n",
    "end\n",
    "\n",
    "test"
   ]
  }
 ],
 "metadata": {
  "kernelspec": {
   "display_name": "Ruby 2.2.6",
   "language": "ruby",
   "name": "ruby"
  },
  "language_info": {
   "file_extension": ".rb",
   "mimetype": "application/x-ruby",
   "name": "ruby",
   "version": "2.2.6"
  }
 },
 "nbformat": 4,
 "nbformat_minor": 2
}
