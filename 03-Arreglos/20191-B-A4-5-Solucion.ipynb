{
 "cells": [
  {
   "cell_type": "markdown",
   "metadata": {},
   "source": [
    "### Pregunta 5\n",
    "Existe en la actualidad un desconcierto entre los habitantes de una ciudad derivado de la administración de un lote de petróleo. Para ello, el gobierno decidió realizar una consulta popular para determinar si la empresa MiPetroleo debe o no administrar dicho lote. \n",
    "\n",
    "La consulta popular tuvo dos preguntas:\n",
    "1. ¿Está usted de acuerdo con que la empresa MiPetroleo administre el lote 192? \n",
    "\tLas respuestas posibles fueron \n",
    "  * S= para SI \n",
    "  * N= para NO.\n",
    "  * X= para NO SABE/NO OPINA\n",
    "\n",
    "1. ¿Cuál alternativa le parece que debe aplicarse en este conflicto?\n",
    "\tLas respuestas posibles fueron:\n",
    "  * 1=Que se otorgue la administración total a la empresa MiPetroleo.\n",
    "  * 2=Que se otorgue la administración total a otra empresa.\n",
    "  * 3=Que se administre de forma equitativa por ambas empresas\n",
    "  * 0=No sabe/No opina\n",
    "\n",
    "Todas las respuestas fueron incluidas en un arreglo de respuestas para cada pregunta. \n",
    "\n",
    "De acuerdo a ello, se le solicita lo siguiente:\n",
    "1. Desarrollar un subprograma que determine los porcentajes que obtuvieron cada una de las respuestas posibles y cuál de ellas obtuvo el mayor porcentaje. \n",
    "Por ejemplo: si la respuesta SI obtuvo el 50.0%, el NO obtuvo 30.0%, No sabe/No opina NS obtuvo el 20.0, entonces se debe dar como resultado el siguiente: [50.0,30.0,20.0,\"SI\"]\n",
    "1. Elaborar un subprograma que permita determinar ¿qué porcentaje de aceptación tuvo la consulta popular? Determinada por la cantidad de personas que respondieron diferente a “No sabe/No opina”.\t\n"
   ]
  },
  {
   "cell_type": "markdown",
   "metadata": {},
   "source": [
    "<div class=\"alert alert-block alert-info\">\n",
    "<ol>\n",
    "    <li>Como hay que contar 3 decisiones diferentes, se requieren 3 variables (aunque tambien puede haberse implementado en un arreglo</li>\n",
    "    <li>Luego se requiere saber cual de los 3 valores es el mayor</li>\n",
    "    <li>Finalmente y observando lo que espera como rspuesta la rutina de test, se debe generar un arreglo con los datos obtenidos</li>\n",
    "\n",
    "</ol>\n",
    "</div>"
   ]
  },
  {
   "cell_type": "code",
   "execution_count": 3,
   "metadata": {},
   "outputs": [
    {
     "data": {
      "text/plain": [
       ":calcularresultadoVeredicto"
      ]
     },
     "execution_count": 3,
     "metadata": {},
     "output_type": "execute_result"
    }
   ],
   "source": [
    "def calcularresultadoVeredicto(pregunta1)\n",
    "  rpta = []\n",
    "  contarSI = 0.0\n",
    "  contarNO = 0.0\n",
    "  contarX = 0.0\n",
    "\n",
    "  for i in 0..pregunta1.size-1\n",
    "    if pregunta1[i] == \"S\"\n",
    "      contarSI += 1\n",
    "    elsif pregunta1[i] == \"N\"\n",
    "      contarNO += 1\n",
    "    elsif pregunta1[i] == \"X\"\n",
    "      contarX +=1\n",
    "    end\n",
    "  end\n",
    "\n",
    "  #-- Obtener el mayor valor y guardar quien es\n",
    "  mayor = \"\"\n",
    "  if contarSI >= contarNO and contarSI >= contarX\n",
    "    mayor = \"SI\"\n",
    "  elsif contarNO >= contarSI and contarNO >= contarX\n",
    "    mayor = \"NO\"\n",
    "  elsif contarX >= contarSI and contarX >= contarNO\n",
    "    mayor = \"NS\"\n",
    "  end\n",
    "\n",
    "  #- Generar el arreglo de respuesta\n",
    "  rpta.push(contarSI*100/pregunta1.size)\n",
    "  rpta.push(contarNO*100/pregunta1.size)\n",
    "  rpta.push(contarX*100/pregunta1.size)\n",
    "  rpta.push(mayor)\n",
    "\n",
    "  return rpta\n",
    "end"
   ]
  },
  {
   "cell_type": "code",
   "execution_count": 4,
   "metadata": {},
   "outputs": [
    {
     "data": {
      "text/plain": [
       ":determinaraceptacion"
      ]
     },
     "execution_count": 4,
     "metadata": {},
     "output_type": "execute_result"
    }
   ],
   "source": [
    "\n",
    "def determinaraceptacion(pregunta2)\n",
    "  contarAceptacion = 0.0\n",
    "  for i in 0..pregunta2.size-1\n",
    "    if pregunta2[i] == \"1\" or pregunta2[i] == \"2\" or pregunta2[i] == \"3\"\n",
    "      contarAceptacion = contarAceptacion + 1\n",
    "    end\n",
    "  end\n",
    "  \n",
    "  return contarAceptacion*100/pregunta2.size\n",
    "end"
   ]
  },
  {
   "cell_type": "code",
   "execution_count": 5,
   "metadata": {},
   "outputs": [
    {
     "name": "stdout",
     "output_type": "stream",
     "text": [
      "Test de prueba del programa\n",
      "---------------------------\n",
      "... \n",
      "... \n"
     ]
    }
   ],
   "source": [
    "#--- zona de test ----\n",
    "\n",
    "def test_calcularresultadoVeredicto\n",
    "  respuestas1=[\"S\",\"S\",\"X\",\"N\",\"N\",\"S\",\"N\",\"X\",\"S\",\"S\"]\n",
    "  respuestas2=[\"N\",\"N\",\"N\",\"X\",\"N\",\"S\",\"N\",\"X\",\"N\",\"N\"]\n",
    "  respuestas3=[\"X\",\"S\",\"X\",\"N\",\"X\",\"X\",\"X\",\"S\",\"X\",\"S\"]\n",
    "  \n",
    "    print validate([50.0,30.0,20.0,\"SI\"], calcularresultadoVeredicto(respuestas1)) \n",
    "    print validate([10.00,70.00,20.00,\"NO\"], calcularresultadoVeredicto(respuestas2)) \n",
    "    print validate([30.0,10.0,60.0,\"NS\"], calcularresultadoVeredicto(respuestas3)) \n",
    "end\n",
    "\n",
    "def test_determinaraceptacion\n",
    "  respuestas1=[\"3\",\"1\",\"2\",\"2\",\"3\",\"0\",\"0\",\"2\",\"1\",\"1\"]\n",
    "  respuestas2=[\"3\",\"3\",\"3\",\"1\",\"2\",\"0\",\"0\",\"0\",\"2\",\"1\"]\n",
    "  respuestas3=[\"0\",\"2\",\"3\",\"0\",\"0\",\"3\",\"2\",\"3\",\"0\",\"2\"]\n",
    "\n",
    "  print validate(80.0,determinaraceptacion(respuestas1)) \n",
    "  print validate(70.0, determinaraceptacion(respuestas2)) \n",
    "  print validate(60.0, determinaraceptacion(respuestas3)) \n",
    "end\n",
    "\n",
    "def validate (expected, value)\n",
    " expected == value ? \".\" : \"F\"\n",
    "end\n",
    "\n",
    "def test\n",
    " \n",
    "  \n",
    "  puts \"Test de prueba del programa\"\n",
    "  puts \"---------------------------\"\n",
    "  test_calcularresultadoVeredicto\n",
    "  puts \" \"\n",
    "  test_determinaraceptacion\n",
    "  puts \" \"\n",
    "\n",
    "end\n",
    "test"
   ]
  }
 ],
 "metadata": {
  "kernelspec": {
   "display_name": "Ruby 2.2.6",
   "language": "ruby",
   "name": "ruby"
  },
  "language_info": {
   "file_extension": ".rb",
   "mimetype": "application/x-ruby",
   "name": "ruby",
   "version": "2.2.6"
  }
 },
 "nbformat": 4,
 "nbformat_minor": 2
}
