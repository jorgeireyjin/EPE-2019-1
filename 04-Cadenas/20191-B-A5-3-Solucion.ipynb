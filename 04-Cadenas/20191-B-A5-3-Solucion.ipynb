{
 "cells": [
  {
   "cell_type": "markdown",
   "metadata": {},
   "source": [
    "### Pregunta 3\n",
    "\n",
    "El área de despacho de una empresa tiene la necesidad de reformular los códigos de despacho de los pedidos manejando la siguiente estructura:\n",
    "\n",
    "Ejemplo:\n",
    "\n",
    "**214301PC1001**, donde\n",
    "-\t2143 (4 caracteres): representa el número del pedido.\n",
    "-\t01 (2 caracteres): representa el departamento donde será entregado el pedido.\n",
    "-\tP (1 caracter): representa el estado, donde P – Pendiente, T – Transito, E – Entregado.\n",
    "-\tC1 (2 caracteres): representa el tamaño del paquete, donde C1 – Pequeño, C2, Mediano y C3 – Grande.\n",
    "-\t001 (3 caracteres): representa el tipo de transporte usado en el envío, donde 001 – Terrestre, 002 – Marítimo y 003 – Aéreo.\n",
    "\n",
    "Desarrolle los siguientes enunciados:\n",
    "1. Dado un arreglo con códigos de despacho y el tamaño del paquete, retornar el número de pedidos con ese tamaño de paquete.\n",
    "1. Dado un arreglo con códigos de despacho, se requiere devolver en un arreglo los códigos de despacho que contrataron transporte Aéreo.\n",
    "1. Dada un arreglo con códigos de despacho y considerando los siguientes costos, determinar el costo total del despacho de todos los pedidos.\n",
    "\n",
    "<table>\n",
    "<tr>\n",
    "  <td>**Tamaño de Paquete / Tipo de Transporte**</td>\n",
    "  <td>**001**</td>\n",
    "  <td>**002**</td>\n",
    "  <td>**003**</td>\n",
    "<tr>\n",
    "  <tr>\n",
    "  <td>**C1**</td>\n",
    "  <td>S/. 10.00</td>\n",
    "  <td>S/. 15.00</td>\n",
    "  <td>S/. 30.00</td>\n",
    "<tr>\n",
    "  <tr>\n",
    "  <td>**C2**</td>\n",
    "  <td>S/. 17.00</td>\n",
    "  <td>S/. 20.00</td>\n",
    "  <td>S/. 50.00</td>\n",
    "<tr>\n",
    "  <tr>\n",
    "  <td>**C3**</td>\n",
    "  <td>S/. 30.00</td>\n",
    "  <td>S/. 35.00</td>\n",
    "  <td>S/. 90.00</td>\n",
    "<tr>\n",
    "</table>\n",
    "  \n"
   ]
  },
  {
   "cell_type": "code",
   "execution_count": 1,
   "metadata": {},
   "outputs": [
    {
     "data": {
      "text/plain": [
       ":pregunta1"
      ]
     },
     "execution_count": 1,
     "metadata": {},
     "output_type": "execute_result"
    }
   ],
   "source": [
    "#encoding:UTF-8\n",
    "def pregunta1(codigos, paquete)\n",
    "\tcontador = 0\n",
    "\tfor i in 0..codigos.size-1\n",
    "\t\tif codigos[i][7..8] == paquete\n",
    "\t\t\tcontador = contador + 1\n",
    "\t\tend\n",
    "\tend\n",
    "\t\n",
    "\treturn contador\n",
    "end\n"
   ]
  },
  {
   "cell_type": "code",
   "execution_count": 2,
   "metadata": {},
   "outputs": [
    {
     "data": {
      "text/plain": [
       ":pregunta2"
      ]
     },
     "execution_count": 2,
     "metadata": {},
     "output_type": "execute_result"
    }
   ],
   "source": [
    "def pregunta2(codigos)\n",
    "\tmyArray = Array.new\n",
    "\n",
    "\tfor i in 0..codigos.size-1\n",
    "\t\tif codigos[i][9..11] == \"003\"\n",
    "\t\t\tmyArray.push(codigos[i])\n",
    "\t\tend\n",
    "\tend\n",
    "\n",
    "\treturn myArray\n",
    "end"
   ]
  },
  {
   "cell_type": "code",
   "execution_count": 5,
   "metadata": {},
   "outputs": [
    {
     "data": {
      "text/plain": [
       ":pregunta3"
      ]
     },
     "execution_count": 5,
     "metadata": {},
     "output_type": "execute_result"
    }
   ],
   "source": [
    "def pregunta3(codigos)\n",
    "\ttotal = 0.0\n",
    "\tfor i in 0..codigos.size-1\n",
    "      \n",
    "\t\tif codigos[i][7..8] == \"C1\"\n",
    "\t\t\tif codigos[i][9..11] == \"001\"\n",
    "\t\t\t\ttotal = total +  10\n",
    "\t\t\telsif codigos[i][9..11] == \"002\"\n",
    "\t\t\t\ttotal = total + 15\n",
    "\t\t\telsif codigos[i][9..11] == \"003\"\n",
    "\t\t\t\ttotal = total + 30\n",
    "\t\t\telse\n",
    "\t\t\t\ttotal = total + 0\n",
    "\t\t\tend\n",
    "        end\n",
    "      \n",
    "\t\tif codigos[i][7..8] == \"C2\"\n",
    "\t\t\tif codigos[i][9..11] == \"001\"\n",
    "\t\t\t\ttotal = total + 17\n",
    "\t\t\telsif codigos[i][9..11] == \"002\"\n",
    "\t\t\t\ttotal = total +  20\n",
    "\t\t\telsif codigos[i][9..11] == \"003\"\n",
    "\t\t\t\ttotal = total + 50\n",
    "\t\t\telse\n",
    "\t\t\t\ttotal = total + 0\n",
    "\t\t\tend\n",
    "        end\n",
    "\t\t\n",
    "        if codigos[i][7..8] == \"C3\"\n",
    "\t\t\tif codigos[i][9..11] == \"001\"\n",
    "\t\t\t\ttotal = total + 30\n",
    "\t\t\telsif codigos[i][9..11] == \"002\"\n",
    "\t\t\t\ttotal = total + 35\n",
    "\t\t\telsif codigos[i][9..11] == \"003\"\n",
    "\t\t\t\ttotal = total + 90\n",
    "\t\t\telse\n",
    "\t\t\t\ttotal = total + 0\n",
    "\t\t\tend\n",
    "        end\n",
    "\n",
    "\tend\n",
    "\n",
    "\treturn total\n",
    "end"
   ]
  },
  {
   "cell_type": "code",
   "execution_count": 6,
   "metadata": {},
   "outputs": [
    {
     "name": "stdout",
     "output_type": "stream",
     "text": [
      "Test de Prueba\n",
      "--------------\n",
      ".\n",
      ".\n",
      ".\n"
     ]
    }
   ],
   "source": [
    "#--- zona de test ----\n",
    "def test_pregunta1\n",
    "  \tprint validate(3, pregunta1(@arreglo1, \"C2\"))\n",
    "end\n",
    "\n",
    "def test_pregunta2\n",
    "  \tprint validate([\"153507PC1003\", \"876521PC2003\", \"231305PC3003\"], pregunta2(@arreglo1))\n",
    "end\n",
    "\n",
    "def test_pregunta3\n",
    "  \tprint validate(297.0, pregunta3(@arreglo1))\n",
    "end\n",
    "\n",
    "def validate (expected, value)\n",
    " \texpected == value ? \".\" : \"F\"\n",
    "end\n",
    "\n",
    "def test\n",
    "\t@arreglo1 = [\"214301PC1001\", \n",
    "\t\t\t\t \"774405PC1002\", \n",
    "\t\t\t\t \"153507PC1003\", \n",
    "\t\t\t\t \"875612PC2001\", \n",
    "\t\t\t\t \"198220PC2002\", \n",
    "\t\t\t\t \"876521PC2003\", \n",
    "\t\t\t\t \"987622PC3001\", \n",
    "\t\t\t\t \"101001PC3002\", \n",
    "\t\t\t\t \"231305PC3003\"]\n",
    "\t\n",
    "  \tputs \"Test de Prueba\"\n",
    "  \tputs \"--------------\"\n",
    "  \ttest_pregunta1\n",
    "  \tputs \"\"\n",
    "  \ttest_pregunta2\n",
    "  \tputs \"\"\n",
    "  \ttest_pregunta3\n",
    "  \tputs \"\"\n",
    "end\n",
    "\n",
    "test"
   ]
  }
 ],
 "metadata": {
  "kernelspec": {
   "display_name": "Ruby 2.2.6",
   "language": "ruby",
   "name": "ruby"
  },
  "language_info": {
   "file_extension": ".rb",
   "mimetype": "application/x-ruby",
   "name": "ruby",
   "version": "2.2.6"
  }
 },
 "nbformat": 4,
 "nbformat_minor": 2
}
