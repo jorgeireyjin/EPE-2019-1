{
 "cells": [
  {
   "cell_type": "markdown",
   "metadata": {},
   "source": [
    "### Pregunta 2 - Solución\n",
    "Se cuenta con un número de 2 dígitos, obtener el número invertido. \n",
    "Ejemplo si el número es 27 debe obtener 72, si el número es 20 debe obtener 2. "
   ]
  },
  {
   "cell_type": "markdown",
   "metadata": {},
   "source": [
    "<div class=\"alert alert-block alert-info\">\n",
    "Como el número tiene 2 dìgitos serían: unidades y decenas.\n",
    "<ul>\n",
    "<li>Primero hay que obtener cada digito</li>\n",
    "<li>Luego a los digitos obtenidos en el paso anterior hay que: al digito de la unidades multiplicarlo por 10 y sumarle el digito de las decenas</li>\n",
    "</ul>\n",
    "</div>"
   ]
  },
  {
   "cell_type": "code",
   "execution_count": 1,
   "metadata": {},
   "outputs": [
    {
     "data": {
      "text/plain": [
       ":invertirNumero"
      ]
     },
     "execution_count": 1,
     "metadata": {},
     "output_type": "execute_result"
    }
   ],
   "source": [
    "def invertirNumero(numero)\n",
    "  # Obtener digito de las unidades\n",
    "  dig1 = numero%10\n",
    "  \n",
    "  # Ahora obtener digito de las decenas\n",
    "  numero = numero/10\n",
    "  dig2 = numero%10\n",
    "  \n",
    "  # Ahora generar el numero invertido\n",
    "  nuevonumero = dig1*10 + dig2\n",
    "  return nuevonumero\n",
    "end"
   ]
  },
  {
   "cell_type": "code",
   "execution_count": 2,
   "metadata": {},
   "outputs": [
    {
     "name": "stdout",
     "output_type": "stream",
     "text": [
      "Test de prueba del programa\n",
      "---------------------------\n",
      ".... \n"
     ]
    }
   ],
   "source": [
    "#--- zona de test ----\n",
    "\n",
    "def test_invertirNumero\n",
    "    print validate(69, invertirNumero(96))\n",
    "    print validate(2, invertirNumero(20))\n",
    "    print validate(99, invertirNumero(99))\n",
    "    print validate(83, invertirNumero(38))\n",
    "end\n",
    "\n",
    "def validate (expected, value)\n",
    " expected == value ? \".\" : \"F\"\n",
    "end\n",
    "\n",
    "def test   \n",
    "  puts \"Test de prueba del programa\"\n",
    "  puts \"---------------------------\"\n",
    "  test_invertirNumero\n",
    "  puts \" \"\n",
    "end\n",
    "test\n"
   ]
  }
 ],
 "metadata": {
  "kernelspec": {
   "display_name": "Ruby 2.2.6",
   "language": "ruby",
   "name": "ruby"
  },
  "language_info": {
   "file_extension": ".rb",
   "mimetype": "application/x-ruby",
   "name": "ruby",
   "version": "2.2.6"
  }
 },
 "nbformat": 4,
 "nbformat_minor": 2
}
