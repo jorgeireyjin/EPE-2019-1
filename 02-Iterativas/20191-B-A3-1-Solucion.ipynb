{
 "cells": [
  {
   "cell_type": "markdown",
   "metadata": {},
   "source": [
    "### Pregunta 1\n",
    "\n",
    "Hacer un subprograma para sumar los números impares contenidos entre el posterior del primero y el anterior del segundo \n",
    "\n",
    "Ejemplo: dado n1 = 1 y n2 = 16, debe devolver 63 (3+5+7+9+11+13+15).\n",
    "\n"
   ]
  },
  {
   "cell_type": "markdown",
   "metadata": {},
   "source": [
    "<div class=\"alert alert-block alert-info\">\n",
    "<ul>\n",
    "<li>Declaramos un acumulador (en este caso, la plantilla viene con la variable suma=0</li>\n",
    "<li>Se debe recorrer desde el numero1+1  hasta el numero2-1</li>\n",
    "<li>Si es IMPAR significa que al dividirse entre 2 hay un residuo</li>\n",
    "<li>Se debe ir ACUMULANDO la suma</li>\n",
    "</ul>\n",
    "</div>"
   ]
  },
  {
   "cell_type": "code",
   "execution_count": 1,
   "metadata": {},
   "outputs": [
    {
     "data": {
      "text/plain": [
       ":sumaImpares"
      ]
     },
     "execution_count": 1,
     "metadata": {},
     "output_type": "execute_result"
    }
   ],
   "source": [
    "def sumaImpares(numero1 , numero2)\n",
    "    suma=0\n",
    "  \n",
    "    for i in numero1+1 .. numero2-1\n",
    "      if i % 2 != 0\n",
    "        suma = suma + i\n",
    "      end\n",
    "    end\n",
    "  \n",
    "  #puts suma\n",
    "    return suma\n",
    "end"
   ]
  },
  {
   "cell_type": "code",
   "execution_count": 2,
   "metadata": {},
   "outputs": [
    {
     "name": "stdout",
     "output_type": "stream",
     "text": [
      "Test de prueba del programa\n",
      "---------------------------\n",
      ".... \n"
     ]
    }
   ],
   "source": [
    "#--- zona de test ----\n",
    "\n",
    "def test_sumaImpares\n",
    "    print validate(   63, sumaImpares(  1, 16))\n",
    "    print validate(10400, sumaImpares( 50,211))\n",
    "    print validate(  585, sumaImpares( 23, 54))\n",
    "    print validate(21600, sumaImpares(300,420))\n",
    "  end\n",
    "\n",
    "\n",
    "def validate (expected, value)\n",
    " expected == value ? \".\" : \"F\"\n",
    "end\n",
    "\n",
    "def test\n",
    "  puts \"Test de prueba del programa\"\n",
    "  puts \"---------------------------\"\n",
    "  test_sumaImpares\n",
    "  puts \" \"\n",
    "end\n",
    "\n",
    "test"
   ]
  }
 ],
 "metadata": {
  "kernelspec": {
   "display_name": "Ruby 2.2.6",
   "language": "ruby",
   "name": "ruby"
  },
  "language_info": {
   "file_extension": ".rb",
   "mimetype": "application/x-ruby",
   "name": "ruby",
   "version": "2.2.6"
  }
 },
 "nbformat": 4,
 "nbformat_minor": 2
}
