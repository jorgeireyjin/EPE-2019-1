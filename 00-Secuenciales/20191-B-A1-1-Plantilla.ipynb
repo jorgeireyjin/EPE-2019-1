{
 "cells": [
  {
   "cell_type": "markdown",
   "metadata": {},
   "source": [
    "### Pregunta 1\n",
    "\n",
    "Se cuenta con un número de 3 dígitos, calcular la suma de los dígitos y el promedio total\n"
   ]
  },
  {
   "cell_type": "code",
   "execution_count": 1,
   "metadata": {},
   "outputs": [
    {
     "name": "stdout",
     "output_type": "stream",
     "text": [
      "Test de prueba del programa\n",
      "---------------------------\n",
      "FFFF \n",
      "FFFF \n"
     ]
    }
   ],
   "source": [
    "def sumaDigitos(numero)\n",
    "\n",
    "end\n",
    "\n",
    "def calculaPromedio(numero)\n",
    "\n",
    "end\n",
    "#--- zona de test ----\n",
    "\n",
    "def test_sumaDigitos\n",
    "    print validate(22, sumaDigitos(967))\n",
    "    print validate(7, sumaDigitos(205))\n",
    "    print validate(24, sumaDigitos(699))\n",
    "    print validate(15, sumaDigitos(438))\n",
    "end\n",
    "\n",
    "def test_calculaPromedio\n",
    "    print validate(7.33, calculaPromedio(967))\n",
    "    print validate(2.33, calculaPromedio(205))\n",
    "    print validate(8, calculaPromedio(699))\n",
    "    print validate(5, calculaPromedio(438))\n",
    "end\n",
    "\n",
    "def validate (expected, value)\n",
    " expected == value ? \".\" : \"F\"\n",
    "end\n",
    "\n",
    "def test   \n",
    "  puts \"Test de prueba del programa\"\n",
    "  puts \"---------------------------\"\n",
    "  test_sumaDigitos\n",
    "  puts \" \"\n",
    "  test_calculaPromedio\n",
    "  puts \" \"\n",
    "end\n",
    "test"
   ]
  }
 ],
 "metadata": {
  "kernelspec": {
   "display_name": "Ruby 2.2.6",
   "language": "ruby",
   "name": "ruby"
  },
  "language_info": {
   "file_extension": ".rb",
   "mimetype": "application/x-ruby",
   "name": "ruby",
   "version": "2.2.6"
  }
 },
 "nbformat": 4,
 "nbformat_minor": 2
}
