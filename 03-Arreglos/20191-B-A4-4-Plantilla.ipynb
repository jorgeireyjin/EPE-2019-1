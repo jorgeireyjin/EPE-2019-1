{
 "cells": [
  {
   "cell_type": "markdown",
   "metadata": {},
   "source": [
    "### Pregunta 4\n",
    "\n",
    "Una conocida aerolínea necesita contar con un programa que le permita gestionar información acerca del estado de los asientos de cada uno de sus vuelos. Para esto, se cuenta con 2 arreglos: el primer arreglo contiene el número de asientos que tiene el vuelo, y el segundo contiene el estado de cada uno de los asientos (O = ocupado, D = desocupado).\n",
    "Se requiere lo siguiente:\n",
    "1. Subprograma que obtenga la cantidad de asientos disponibles.\n",
    "1. Subprograma que devuelva la lista de asientos que se encuentran disponibles.\n",
    "1. Subprograma que devuelva el número del primer asiento disponible. En caso no exista asiento disponible devolver cero.\n",
    "1. Subprograma que devuelva el número del último asiento disponible. En caso no exista asiento disponible devolver cero.\n",
    "1. Subprograma que devuelva el porcentaje de asientos disponibles.\n"
   ]
  },
  {
   "cell_type": "code",
   "execution_count": 1,
   "metadata": {},
   "outputs": [
    {
     "name": "stdout",
     "output_type": "stream",
     "text": [
      "---------------------------\n",
      "FFFFFFFFFFFFFFF \n"
     ]
    }
   ],
   "source": [
    "def numAsientosDisponibles(estadoAsientos)\n",
    "\n",
    "end    \n",
    "\n",
    "def listaAsientosDisponibles(asientos,estadoAsientos)\n",
    "\n",
    "end\n",
    "\n",
    "def primerAsientoDisponible(asientos,estadoAsientos)\n",
    "\n",
    "end\n",
    "\n",
    "def ultimoAsientoDisponible(asientos,estadoAsientos)\n",
    "\n",
    "end\n",
    "\n",
    "def porcentajeDisponible(estadoAsientos)\n",
    "\n",
    "end\n",
    "    \n",
    "#--- zona de test ----\n",
    "\n",
    "def test_numAsientosDisponibles\n",
    "  print validate(10,numAsientosDisponibles(@estado1))\n",
    "  print validate(8,numAsientosDisponibles(@estado2))\n",
    "  print validate(7,numAsientosDisponibles(@estado3))\n",
    "end\n",
    "\n",
    "def test_listaAsientosDisponibles\n",
    "  print validate([4,6,7,8,10,11,13,15,16,17],listaAsientosDisponibles(@listaAsientos,@estado1))\n",
    "  print validate([1,2,3,9,10,11,12,15],listaAsientosDisponibles(@listaAsientos,@estado2))\n",
    "  print validate([6,11,13,15,16,18,19],listaAsientosDisponibles(@listaAsientos,@estado3))\n",
    "end\n",
    "\n",
    "def test_primerAsientoDisponible\n",
    "   print validate(4,primerAsientoDisponible(@listaAsientos,@estado1))\n",
    "   print validate(1,primerAsientoDisponible(@listaAsientos,@estado2))\n",
    "   print validate(6,primerAsientoDisponible(@listaAsientos,@estado3))\n",
    "  \n",
    "end\n",
    "\n",
    "def test_ultimoAsientoDisponible\n",
    "   print validate(17,ultimoAsientoDisponible(@listaAsientos,@estado1))\n",
    "   print validate(15,ultimoAsientoDisponible(@listaAsientos,@estado2))\n",
    "   print validate(19,ultimoAsientoDisponible(@listaAsientos,@estado3))\n",
    "  \n",
    "end\n",
    "\n",
    "def test_porcentajeDisponible\n",
    "   print validate(0.50,porcentajeDisponible(@estado1))\n",
    "   print validate(0.40,porcentajeDisponible(@estado2))\n",
    "   print validate(0.35,porcentajeDisponible(@estado3))\n",
    "  \n",
    "end\n",
    "\n",
    "def validate (expected, value)\n",
    " expected == value ? \".\" : \"F\"\n",
    "end\n",
    "\n",
    "def test\n",
    "  @listaAsientos = [1,2,3,4,5,6,7,8,9,10,11,12,13,14,15,16,17,18,19,20]\n",
    "  \n",
    "  @estado1 =[\"O\",\"O\",\"O\",\"D\",\"O\",\"D\",\"D\",\"D\",\"O\",\"D\",\"D\",\"O\",\"D\",\"O\",\"D\",\"D\",\"D\",\"O\",\"O\",\"O\"] \n",
    "  @estado2 =[\"D\",\"D\",\"D\",\"O\",\"O\",\"O\",\"O\",\"O\",\"D\",\"D\",\"D\",\"D\",\"O\",\"O\",\"D\",\"O\",\"O\",\"O\",\"O\",\"O\"] \n",
    "  @estado3 =[\"O\",\"O\",\"O\",\"O\",\"O\",\"D\",\"O\",\"O\",\"O\",\"O\",\"D\",\"O\",\"D\",\"O\",\"D\",\"D\",\"O\",\"D\",\"D\",\"O\"] \n",
    "  \n",
    "  puts \"---------------------------\"\n",
    "  test_numAsientosDisponibles\n",
    "  test_listaAsientosDisponibles\n",
    "  test_primerAsientoDisponible\n",
    "  test_ultimoAsientoDisponible\n",
    "  test_porcentajeDisponible\n",
    "  puts \" \"\n",
    "end\n",
    "test"
   ]
  }
 ],
 "metadata": {
  "kernelspec": {
   "display_name": "Ruby 2.2.6",
   "language": "ruby",
   "name": "ruby"
  },
  "language_info": {
   "file_extension": ".rb",
   "mimetype": "application/x-ruby",
   "name": "ruby",
   "version": "2.2.6"
  }
 },
 "nbformat": 4,
 "nbformat_minor": 2
}
