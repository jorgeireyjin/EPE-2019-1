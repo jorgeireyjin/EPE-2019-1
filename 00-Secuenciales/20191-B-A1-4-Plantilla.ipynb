{
 "cells": [
  {
   "cell_type": "markdown",
   "metadata": {},
   "source": [
    "### Pregunta 4\n",
    "\n",
    "Una persona compra una cantidad de camisas y otra cantidad de blusas. \n",
    "Las camisas tienen un precio y las blusas tienen su propio precio. \n",
    "\n",
    "Calcular el porcentaje gastado en camisas.\n"
   ]
  },
  {
   "cell_type": "code",
   "execution_count": 1,
   "metadata": {},
   "outputs": [
    {
     "name": "stdout",
     "output_type": "stream",
     "text": [
      "Test de prueba del programa\n",
      "---------------------------\n",
      "FFFF \n"
     ]
    }
   ],
   "source": [
    "def calculaPorcentaje(precioCamisa,cantCamisa,precioBlusa, cantBlusa)\n",
    "\n",
    "end\n",
    "\n",
    "#--- zona de test ----\n",
    "\n",
    "def test_calculaPorcentaje\n",
    "    print validate(0.75, calculaPorcentaje(99,3,99,1))\n",
    "    print validate(0.73, calculaPorcentaje(88,6,199,1))\n",
    "    print validate(0.21, calculaPorcentaje(61,2,151,3))\n",
    "    print validate(0.24, calculaPorcentaje(95,1,50,6))\n",
    "end\n",
    "\n",
    "def validate (expected, value)\n",
    " expected == value ? \".\" : \"F\"\n",
    "end\n",
    "\n",
    "def test   \n",
    "  puts \"Test de prueba del programa\"\n",
    "  puts \"---------------------------\"\n",
    "  test_calculaPorcentaje\n",
    "  puts \" \"  \n",
    "end\n",
    "test\n"
   ]
  }
 ],
 "metadata": {
  "kernelspec": {
   "display_name": "Ruby 2.2.6",
   "language": "ruby",
   "name": "ruby"
  },
  "language_info": {
   "file_extension": ".rb",
   "mimetype": "application/x-ruby",
   "name": "ruby",
   "version": "2.2.6"
  }
 },
 "nbformat": 4,
 "nbformat_minor": 2
}
