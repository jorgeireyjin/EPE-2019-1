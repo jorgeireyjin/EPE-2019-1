{
 "cells": [
  {
   "cell_type": "markdown",
   "metadata": {},
   "source": [
    "### Pregunta 5\n",
    "\n",
    "Desarrollar un subprograma con WHILE que determine la cantidad dólares, euros y francos suizos que obtendrá de una cantidad “n” de soles. \n",
    "Considerando que siempre debe cambiar \n",
    "* 1 billete de 100, 20 y 10 dólares; \n",
    "* 1 billete de 50, 10 y 5 euros; \n",
    "* 1 billete de 30, 15 y 2 francos suizos. \n",
    "\n",
    "El programa debe devolver la cantidad de billetes que obtendrá. \n",
    "Considere el tipo de cambio 3.35 soles a dólares, 3.20 soles a euros y 3.15 soles a francos.\n",
    "\n",
    "Ejemplo: n = 800 soles; deberá devolver 9 billetes cambiados de la siguiente manera:\n",
    "<img src=\"20191-MB-A3-5.jpg\" alt=\"ejemplo\" title=\"Ejemplo para 800 soles\" />"
   ]
  },
  {
   "cell_type": "markdown",
   "metadata": {},
   "source": [
    "<div class=\"alert alert-block alert-danger\">\n",
    "<b>Tip:</b> LEer y entender bien el texto.\n",
    "Estan solicitando devolver la cantidad de billetes independientemente de si se logra convertir todos los soles.\n",
    "Hay una restricción sobre la cantidad de billetes de cada denominación (Ahí està el truco !!) --> en el texto se indica la cantidad mínima de cada denominación\n",
    "</div>"
   ]
  },
  {
   "cell_type": "markdown",
   "metadata": {},
   "source": [
    "<div class=\"alert alert-block alert-info\">\n",
    "<ol>\n",
    "<li>Los tipo de cambio son dato del enunciado</li>\n",
    "<li>Nos dan una plantilla con el lazo WHILE</li>\n",
    "<li>Dentro de ese lazo vamos a calcular los billetes en el orden del ejemplo: dolares, euros y francos</li>\n",
    "</ol>\n",
    "</div>"
   ]
  },
  {
   "cell_type": "code",
   "execution_count": 3,
   "metadata": {},
   "outputs": [
    {
     "data": {
      "text/plain": [
       ":determina_billetes"
      ]
     },
     "execution_count": 3,
     "metadata": {},
     "output_type": "execute_result"
    }
   ],
   "source": [
    "def determina_billetes(soles)\n",
    "    \n",
    "    tc_dolar  = 3.35\n",
    "    tc_euro   = 3.2\n",
    "    tc_franco = 3.15\n",
    "\n",
    "    cont = 0\n",
    "\n",
    "    while soles > 0\n",
    "      \n",
    "      \n",
    "      #determina billete de 100 dolares\n",
    "      if (soles - (100 * 3.35)) >= 0\n",
    "        cont = cont + 1\n",
    "        soles = soles - (100 * 3.35)\n",
    "      else \n",
    "        soles = 0\n",
    "      end  \n",
    "\n",
    "      #determina billete de 20 dolares\n",
    "      if (soles - (20 * 3.35)) >= 0\n",
    "        cont = cont + 1\n",
    "        soles = soles - (20 * 3.35)\n",
    "      else \n",
    "        soles = 0\n",
    "      end  \n",
    "\n",
    "      #determina billete de 10 dolares\n",
    "      if (soles - (10 * 3.35)) >= 0\n",
    "        cont = cont + 1\n",
    "        soles = soles - (10 * 3.35)\n",
    "      else \n",
    "        soles = 0\n",
    "      end  \n",
    "\n",
    "      #determina billete de 50 euros\n",
    "      if (soles - (50 * 3.2)) >= 0\n",
    "        cont = cont + 1\n",
    "        soles = soles - (50 * 3.2)\n",
    "      else \n",
    "        soles = 0\n",
    "      end  \n",
    "\n",
    "      #determina billete de 10 euros\n",
    "      if (soles - (10 * 3.2)) >= 0\n",
    "        cont = cont + 1\n",
    "        soles = soles - (10 * 3.2)\n",
    "      else \n",
    "        soles = 0\n",
    "      end  \n",
    "\n",
    "      #determina billete de 5 euros\n",
    "      if (soles - (5 * 3.2)) >= 0\n",
    "        cont = cont + 1\n",
    "        soles = soles - (5 * 3.2)\n",
    "      else \n",
    "        soles = 0\n",
    "      end  \n",
    "\n",
    "          #determina billete de 30 euros\n",
    "      if (soles - (30 * 3.15)) >= 0\n",
    "        cont = cont + 1\n",
    "        soles = soles - (30 * 3.15)\n",
    "      else \n",
    "        soles = 0\n",
    "      end  \n",
    "\n",
    "      #determina billete de 10 euros\n",
    "      if (soles - (15 * 3.15)) >= 0\n",
    "        cont = cont + 1\n",
    "        soles = soles - (15 * 3.15)\n",
    "      else \n",
    "        soles = 0\n",
    "      end  \n",
    "\n",
    "      #determina billete de 5 euros\n",
    "      if (soles - (2 * 3.15)) >= 0\n",
    "        cont = cont + 1\n",
    "        soles = soles - (2 * 3.15)\n",
    "      else \n",
    "        soles = 0\n",
    "      end  \n",
    "      \n",
    "    end\n",
    "  \n",
    "    #puts cont\n",
    "    return cont\n",
    "end\n"
   ]
  },
  {
   "cell_type": "code",
   "execution_count": 4,
   "metadata": {},
   "outputs": [
    {
     "name": "stdout",
     "output_type": "stream",
     "text": [
      "Test de prueba del programa\n",
      "---------------------------\n",
      "..... \n"
     ]
    }
   ],
   "source": [
    "\n",
    "#--- zona de test ----\n",
    "\n",
    "def test_determina_billetes\n",
    "    print validate(  9, determina_billetes(  793.0))\n",
    "    print validate(171, determina_billetes(15350.0))\n",
    "    print validate(225, determina_billetes(20000.0))\n",
    "    print validate( 36, determina_billetes( 3500.0))\n",
    "    print validate(144, determina_billetes(12750.0))\n",
    "  end\n",
    "\n",
    "\n",
    "def validate (expected, value)\n",
    " expected == value ? \".\" : \"F\"\n",
    "end\n",
    "\n",
    "def test\n",
    "  puts \"Test de prueba del programa\"\n",
    "  puts \"---------------------------\"\n",
    "  test_determina_billetes\n",
    "  puts \" \"\n",
    "end\n",
    "\n",
    "test"
   ]
  }
 ],
 "metadata": {
  "kernelspec": {
   "display_name": "Ruby 2.2.6",
   "language": "ruby",
   "name": "ruby"
  },
  "language_info": {
   "file_extension": ".rb",
   "mimetype": "application/x-ruby",
   "name": "ruby",
   "version": "2.2.6"
  }
 },
 "nbformat": 4,
 "nbformat_minor": 2
}
