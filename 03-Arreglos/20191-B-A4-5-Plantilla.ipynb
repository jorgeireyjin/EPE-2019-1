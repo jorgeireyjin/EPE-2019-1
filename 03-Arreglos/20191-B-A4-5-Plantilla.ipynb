{
 "cells": [
  {
   "cell_type": "markdown",
   "metadata": {},
   "source": [
    "### Pregunta 5\n",
    "Existe en la actualidad un desconcierto entre los habitantes de una ciudad derivado de la administración de un lote de petróleo. Para ello, el gobierno decidió realizar una consulta popular para determinar si la empresa MiPetroleo debe o no administrar dicho lote. \n",
    "\n",
    "La consulta popular tuvo dos preguntas:\n",
    "1. ¿Está usted de acuerdo con que la empresa MiPetroleo administre el lote 192? \n",
    "\tLas respuestas posibles fueron \n",
    "  * S= para SI \n",
    "  * N= para NO.\n",
    "  * X= para NO SABE/NO OPINA\n",
    "\n",
    "1. ¿Cuál alternativa le parece que debe aplicarse en este conflicto?\n",
    "\tLas respuestas posibles fueron:\n",
    "  * 1=Que se otorgue la administración total a la empresa MiPetroleo.\n",
    "  * 2=Que se otorgue la administración total a otra empresa.\n",
    "  * 3=Que se administre de forma equitativa por ambas empresas\n",
    "  * 0=No sabe/No opina\n",
    "\n",
    "Todas las respuestas fueron incluidas en un arreglo de respuestas para cada pregunta. \n",
    "\n",
    "De acuerdo a ello, se le solicita lo siguiente:\n",
    "1. Desarrollar un subprograma que determine los porcentajes que obtuvieron cada una de las respuestas posibles y cuál de ellas obtuvo el mayor porcentaje. \n",
    "Por ejemplo: si la respuesta SI obtuvo el 50.0%, el NO obtuvo 30.0%, No sabe/No opina NS obtuvo el 20.0, entonces se debe dar como resultado el siguiente: [50.0,30.0,20.0,\"SI\"]\n",
    "1. Elaborar un subprograma que permita determinar ¿qué porcentaje de aceptación tuvo la consulta popular? Determinada por la cantidad de personas que respondieron diferente a “No sabe/No opina”.\t\n"
   ]
  },
  {
   "cell_type": "code",
   "execution_count": 1,
   "metadata": {},
   "outputs": [
    {
     "name": "stdout",
     "output_type": "stream",
     "text": [
      "Test de prueba del programa\n",
      "---------------------------\n",
      "FFF \n",
      "FFF \n"
     ]
    }
   ],
   "source": [
    "def calcularresultadoVeredicto(pregunta1)\n",
    "\n",
    "end\n",
    "\n",
    "def determinaraceptacion(pregunta2)\n",
    "\n",
    "end\n",
    "\n",
    "#--- zona de test ----\n",
    "\n",
    "def test_calcularresultadoVeredicto\n",
    "  respuestas1=[\"S\",\"S\",\"X\",\"N\",\"N\",\"S\",\"N\",\"X\",\"S\",\"S\"]\n",
    "  respuestas2=[\"N\",\"N\",\"N\",\"X\",\"N\",\"S\",\"N\",\"X\",\"N\",\"N\"]\n",
    "  respuestas3=[\"X\",\"S\",\"X\",\"N\",\"X\",\"X\",\"X\",\"S\",\"X\",\"S\"]\n",
    "  \n",
    "    print validate([50.0,30.0,20.0,\"SI\"], calcularresultadoVeredicto(respuestas1)) \n",
    "    print validate([10.00,70.00,20.00,\"NO\"], calcularresultadoVeredicto(respuestas2)) \n",
    "    print validate([30.0,10.0,60.0,\"NS\"], calcularresultadoVeredicto(respuestas3)) \n",
    "end\n",
    "\n",
    "def test_determinaraceptacion\n",
    "  respuestas1=[\"3\",\"1\",\"2\",\"2\",\"3\",\"0\",\"0\",\"2\",\"1\",\"1\"]\n",
    "  respuestas2=[\"3\",\"3\",\"3\",\"1\",\"2\",\"0\",\"0\",\"0\",\"2\",\"1\"]\n",
    "  respuestas3=[\"0\",\"2\",\"3\",\"0\",\"0\",\"3\",\"2\",\"3\",\"0\",\"2\"]\n",
    "\n",
    "  print validate(80.0,determinaraceptacion(respuestas1)) \n",
    "  print validate(70.0, determinaraceptacion(respuestas2)) \n",
    "  print validate(60.0, determinaraceptacion(respuestas3)) \n",
    "end\n",
    "\n",
    "def validate (expected, value)\n",
    " expected == value ? \".\" : \"F\"\n",
    "end\n",
    "\n",
    "def test\n",
    " \n",
    "  \n",
    "  puts \"Test de prueba del programa\"\n",
    "  puts \"---------------------------\"\n",
    "  test_calcularresultadoVeredicto\n",
    "  puts \" \"\n",
    "  test_determinaraceptacion\n",
    "  puts \" \"\n",
    "\n",
    "end\n",
    "test"
   ]
  }
 ],
 "metadata": {
  "kernelspec": {
   "display_name": "Ruby 2.2.6",
   "language": "ruby",
   "name": "ruby"
  },
  "language_info": {
   "file_extension": ".rb",
   "mimetype": "application/x-ruby",
   "name": "ruby",
   "version": "2.2.6"
  }
 },
 "nbformat": 4,
 "nbformat_minor": 2
}
