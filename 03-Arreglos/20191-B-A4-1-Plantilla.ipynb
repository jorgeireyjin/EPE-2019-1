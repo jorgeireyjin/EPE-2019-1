{
 "cells": [
  {
   "cell_type": "markdown",
   "metadata": {},
   "source": [
    "### Pregunta 1\n",
    "\n",
    "Desarrollar un algoritmo que determine si dos números son **amigos**. \n",
    "Dos números (num1 y num2) cumplen esa condición si la suma de los divisores de num1 (salvo el mismo número) es igual a num2 y la suma de divisores de num2 (salvo el mismo número) es igual a num1\n",
    "\n",
    "Ejemplo: Los divisores de num1 (220) son 1, 2, 4, 5, 10, 11, 20, 22, 44, 55, 110 y la suma es 284.\n",
    "               Los divisores de num2 (284) son 1, 2, 4, 71, 142 y la suma es 220\n",
    "\n",
    "Desarrollar los siguientes módulos (subrutina):\n",
    "1. Una subrutina que permita calcular la suma de los divisores de un número (no considerar al mismo número en la suma).\n",
    "1. Una subrutina que permita determinar si dos números son amigos.\n"
   ]
  },
  {
   "cell_type": "code",
   "execution_count": 1,
   "metadata": {},
   "outputs": [
    {
     "name": "stdout",
     "output_type": "stream",
     "text": [
      "Test de prueba del programa\n",
      "---------------------------\n",
      "FFFFFFF \n"
     ]
    }
   ],
   "source": [
    "def sumaDivisores(numero)\n",
    "\n",
    "end\n",
    "\n",
    "def evaluasiSonAmigos(numero1, numero2)\n",
    "\n",
    "end\n",
    "\n",
    "\n",
    "#--- zona de test ----\n",
    "\n",
    "def test_sumaDivisores\n",
    "    print validate(284, sumaDivisores(220)) \n",
    "    print validate(220, sumaDivisores(284)) \n",
    "    print validate(18416, sumaDivisores(17296)) \n",
    "    print validate(17296, sumaDivisores(18416))\n",
    "end\n",
    "\n",
    "def test_evaluasiSonAmigos\n",
    "    print validate(true, evaluasiSonAmigos(220,284))\n",
    "    print validate(true, evaluasiSonAmigos(17296,18416))\n",
    "    print validate(false, evaluasiSonAmigos(220,18416))\n",
    "end\n",
    "\n",
    "def validate (expected, value)\n",
    " expected == value ? \".\" : \"F\"\n",
    "end\n",
    "\n",
    "def test\n",
    "  puts \"Test de prueba del programa\"\n",
    "  puts \"---------------------------\"\n",
    "  test_sumaDivisores\n",
    "  test_evaluasiSonAmigos\n",
    "  puts \" \"\n",
    "end\n",
    "\n",
    "test"
   ]
  }
 ],
 "metadata": {
  "kernelspec": {
   "display_name": "Ruby 2.2.6",
   "language": "ruby",
   "name": "ruby"
  },
  "language_info": {
   "file_extension": ".rb",
   "mimetype": "application/x-ruby",
   "name": "ruby",
   "version": "2.2.6"
  }
 },
 "nbformat": 4,
 "nbformat_minor": 2
}
