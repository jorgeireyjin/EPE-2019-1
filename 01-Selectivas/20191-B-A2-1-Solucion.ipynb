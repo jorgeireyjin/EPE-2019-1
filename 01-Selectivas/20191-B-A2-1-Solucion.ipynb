{
 "cells": [
  {
   "cell_type": "markdown",
   "metadata": {},
   "source": [
    "### Pregunta 1\n",
    "\n",
    "Las empresas Sony y Microsoft han iniciado una campaña agresiva para vender sus consolas de videojuegos. \n",
    "Para esto ha coordinado con las principales tiendas por departamentos los siguientes precios:\n",
    "\n",
    "<table>\n",
    "  <tr>\n",
    "  <td>Tienda por departamento</td>\n",
    "</tr>\n",
    "<tr>\n",
    "  <td>**Consola**</td>\n",
    "  <td>**Saga**</td>\n",
    "  <td>**Ripley**</td>\n",
    "  <td>**Paris**</td>\n",
    "<tr>\n",
    "<tr>\n",
    "  <td>**PS3**</td>\n",
    "  <td>250</td>\n",
    "  <td>240</td>\n",
    "  <td>245</td>\n",
    "<tr>\n",
    "<tr>\n",
    "  <td>**PS4**</td>\n",
    "  <td>400</td>\n",
    "  <td>420</td>\n",
    "  <td>410</td>\n",
    "<tr>\n",
    "<tr>\n",
    "  <td>**XBOX**</td>\n",
    "  <td>430</td>\n",
    "  <td>410</td>\n",
    "  <td>420</td>\n",
    "<tr>\n",
    "</table>\n",
    "\n",
    "Además, aprovechando los últimos acontecimientos deportivos, se ofrecerán los juegos de fútbol con los siguientes precios:\n",
    "\n",
    "<table>\n",
    "<tr>\n",
    "  <td>**Consola**</td>\n",
    "</tr>\n",
    "<tr>\n",
    "  <td>**Videojuego**</td>\n",
    "  <td>**PS3**</td>\n",
    "  <td>**PS4**</td>\n",
    "  <td>**XBOX**</td>\n",
    "<tr>\n",
    "<tr>\n",
    "  <td>**PES 2019**</td>\n",
    "  <td>50</td>\n",
    "  <td>55</td>\n",
    "  <td>60</td>\n",
    "<tr>\n",
    "<tr>\n",
    "  <td>**FIFA19 SE**</td>\n",
    "  <td>60</td>\n",
    "  <td>70</td>\n",
    "  <td>80</td>\n",
    "<tr>\n",
    "<tr>\n",
    "  <td>**FIFA19 UE**</td>\n",
    "  <td>110</td>\n",
    "  <td>115</td>\n",
    "  <td>130</td>\n",
    "<tr>\n",
    "</table>\n",
    "\n",
    "\n",
    "Se pide desarrollar un programa que realice lo siguiente:\n",
    "\n",
    "1. Calcular el precio de venta de una consola teniendo como datos de entrada la consola y la tienda por departamentos.\n",
    "1. Calcular el precio de venta de un videojuego teniendo como datos de entrada el videojuego y la consola.\n",
    "1. En unas semanas más será el Black Week y se ofrecerá un descuento del 20% en caso la venta sea en esa semana. Calcular el precio final de venta de una consola y el videojuego de fútbol. Para esto tendrá como datos de entrada la tienda por departamentos, la consola, el videojuego. Además, tendrá un parámetro para saber si el día de compra está en la semana del Black Week o no. \n"
   ]
  },
  {
   "cell_type": "markdown",
   "metadata": {},
   "source": [
    "<div class=\"alert alert-block alert-info\">\n",
    "    Calcular el precio de venta de una consola teniendo como datos de entrada la consola y la tienda por departamentos.\n",
    "    <ul>\n",
    "    <li>Para ello usaremos la primera tabla del enunciado: observar que es una tabla de doble entrada, por tanto el \"truco\" es que cada \"entrada\" en una selección.</li>\n",
    "    <li>¿ Cual anidamos ? ... RPTA: Cualquiera</li>\n",
    "    <li>Una forma de hacerlo es como sigue (pero hay diferentes variantes de soluciòn)</li>\n",
    "  </ul>\n",
    "</div>"
   ]
  },
  {
   "cell_type": "code",
   "execution_count": 2,
   "metadata": {},
   "outputs": [
    {
     "data": {
      "text/plain": [
       ":obtenerPrecioConsola"
      ]
     },
     "execution_count": 2,
     "metadata": {},
     "output_type": "execute_result"
    }
   ],
   "source": [
    "#encoding:UTF-8\n",
    "def obtenerPrecioConsola(consola, tienda)\n",
    "  if consola == 'PS3'\n",
    "    if tienda == 'Saga'\n",
    "      precio = 250\n",
    "    elsif tienda == 'Ripley'\n",
    "      precio = 240\n",
    "    else\n",
    "      precio = 245\n",
    "    end\n",
    "  end\n",
    "    \n",
    "  if consola == 'PS4'\n",
    "    if tienda == 'Saga'\n",
    "      precio = 400\n",
    "    elsif tienda == 'Ripley'\n",
    "      precio = 420\n",
    "    else\n",
    "      precio = 410\n",
    "    end\n",
    "  end\n",
    "  \n",
    "  if consola == 'XBOX'\n",
    "   if tienda == 'Saga'\n",
    "      precio = 430\n",
    "    elsif tienda == 'Ripley'\n",
    "      precio = 410\n",
    "    else\n",
    "      precio = 420\n",
    "    end\n",
    "  end\n",
    "\n",
    "  return precio\n",
    "end"
   ]
  },
  {
   "cell_type": "markdown",
   "metadata": {},
   "source": [
    "<div class=\"alert alert-block alert-info\">\n",
    "    Calcular el precio de venta de un videojuego teniendo como datos de entrada el videojuego y la consola.\n",
    "    <ul>\n",
    "    <li>En este caso se usa la segunda tabla del enunciado: observar que es una tabla de doble entrada, por tanto el \"truco\" es que cada \"entrada\" en una selección.</li>\n",
    "    <li>¿ Cual anidamos ? ... RPTA: Cualquiera</li>\n",
    "    <li>Una forma de hacerlo es como sigue (pero hay diferentes variantes de soluciòn)</li>\n",
    "  </ul>\n",
    "</div>"
   ]
  },
  {
   "cell_type": "code",
   "execution_count": 5,
   "metadata": {},
   "outputs": [
    {
     "data": {
      "text/plain": [
       ":obtenerPrecioVideojuego"
      ]
     },
     "execution_count": 5,
     "metadata": {},
     "output_type": "execute_result"
    }
   ],
   "source": [
    "def obtenerPrecioVideojuego(videojuego, consola)\n",
    "  if consola == 'PS3'\n",
    "    if videojuego == 'PES 2019'\n",
    "      precio = 50\n",
    "    elsif videojuego == 'FIFA19 SE'\n",
    "      precio = 60\n",
    "    else\n",
    "      precio = 110\n",
    "    end\n",
    "  end\n",
    "  \n",
    "  if consola == 'PS4'\n",
    "    if videojuego == 'PES 2019'\n",
    "      precio = 55\n",
    "    elsif videojuego == 'FIFA19 SE'\n",
    "      precio = 70\n",
    "    else\n",
    "      precio = 115\n",
    "    end\n",
    "  end\n",
    "  \n",
    "  if consola == 'XBOX'\n",
    "    if videojuego == 'PES 2019'\n",
    "      precio = 60\n",
    "    elsif videojuego == 'FIFA19 SE'\n",
    "      precio = 80\n",
    "    else\n",
    "      precio = 130\n",
    "    end\n",
    "  end\n",
    "\n",
    "  return precio\n",
    "end"
   ]
  },
  {
   "cell_type": "markdown",
   "metadata": {},
   "source": [
    "<div class=\"alert alert-block alert-info\">\n",
    "    Para obtener el precio final se debe invocar a las dos rutinas anteriores.\n",
    "    El parámetro \"semana\" es una boolean ( Es True en caso sea la BLack Week )\n",
    "</div>"
   ]
  },
  {
   "cell_type": "code",
   "execution_count": 15,
   "metadata": {},
   "outputs": [
    {
     "data": {
      "text/plain": [
       ":precioFinal"
      ]
     },
     "execution_count": 15,
     "metadata": {},
     "output_type": "execute_result"
    }
   ],
   "source": [
    "def precioFinal(tienda, consola, videojuego, semana)\n",
    "  precioConsola = obtenerPrecioConsola(consola, tienda)\n",
    "  precioGame    = obtenerPrecioVideojuego(videojuego, consola)\n",
    "\t\n",
    "  precioFinal = precioConsola + precioGame\n",
    "\n",
    "  # Si es black week\n",
    "  if semana == true\n",
    "    precioFinal = precioFinal * 0.8\n",
    "  end\n",
    "\n",
    "  return precioFinal\n",
    "end"
   ]
  },
  {
   "cell_type": "code",
   "execution_count": 16,
   "metadata": {},
   "outputs": [
    {
     "name": "stdout",
     "output_type": "stream",
     "text": [
      "Test de prueba del programa\n",
      "---------------------------\n",
      "... \n",
      "... \n",
      ".... \n"
     ]
    }
   ],
   "source": [
    "\n",
    "#--- zona de test ----\n",
    "\n",
    "def test_pregunta1  \n",
    "  print validate(400, obtenerPrecioConsola(\"PS4\",\"Saga\"))\n",
    "\tprint validate(420, obtenerPrecioConsola(\"XBOX\",\"Paris\"))\n",
    "\tprint validate(240, obtenerPrecioConsola(\"PS3\",\"Ripley\"))  \t\n",
    "end\n",
    "\n",
    "def test_pregunta2\n",
    "  print validate(70, obtenerPrecioVideojuego(\"FIFA19 SE\", \"PS4\"))\n",
    "  print validate(130, obtenerPrecioVideojuego(\"FIFA19 UE\", \"XBOX\"))\n",
    "  print validate(50, obtenerPrecioVideojuego(\"PES 2019\", \"PS3\"))    \n",
    "end\n",
    "\n",
    "def test_pregunta3\n",
    "  print validate(376.0, precioFinal(\"Saga\", \"PS4\", \"FIFA19 SE\", true)) \n",
    "  print validate(470.0, precioFinal(\"Ripley\", \"XBOX\", \"PES 2019\", false)) \n",
    "  print validate(360.0, precioFinal(\"Saga\", \"PS3\", \"FIFA19 UE\", false)) \n",
    "  print validate(384.0, precioFinal(\"Paris\", \"XBOX\", \"PES 2019\", true)) \n",
    "end\n",
    "\n",
    "def validate (expected, value)\n",
    "  expected == value ? \".\" : \"F\"\n",
    "end\n",
    "\n",
    "def test\n",
    "  puts \"Test de prueba del programa\"\n",
    "  puts \"---------------------------\"\n",
    "  test_pregunta1\n",
    "  puts \" \"\n",
    "  test_pregunta2\n",
    "  puts \" \"\n",
    "  test_pregunta3\n",
    "  puts \" \"\n",
    "end\n",
    "test"
   ]
  }
 ],
 "metadata": {
  "kernelspec": {
   "display_name": "Ruby 2.2.6",
   "language": "ruby",
   "name": "ruby"
  },
  "language_info": {
   "file_extension": ".rb",
   "mimetype": "application/x-ruby",
   "name": "ruby",
   "version": "2.2.6"
  }
 },
 "nbformat": 4,
 "nbformat_minor": 2
}
